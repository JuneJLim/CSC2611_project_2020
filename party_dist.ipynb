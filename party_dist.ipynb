{
 "cells": [
  {
   "cell_type": "code",
   "execution_count": 1,
   "metadata": {},
   "outputs": [],
   "source": [
    "import os\n",
    "import numpy as np\n",
    "from gensim.models import Word2Vec\n",
    "from gensim.models import KeyedVectors\n",
    "import gensim\n",
    "from sklearn.metrics.pairwise import cosine_similarity\n",
    "import matplotlib.pyplot as plt"
   ]
  },
  {
   "cell_type": "code",
   "execution_count": 2,
   "metadata": {},
   "outputs": [],
   "source": [
    "def diff_two_w2v_all_nei(m1, m2, num_words):\n",
    "    \"\"\"\n",
    "    Compute difference between two word2vec models based on each word's relationship with all the neighbors.\n",
    "    \"\"\"\n",
    "    \n",
    "    # pick common words between two embeddings and sort them\n",
    "    common_vocab = set(m1.wv.vocab.keys())&set(m2.wv.vocab.keys())\n",
    "    common_vocab = list(common_vocab)\n",
    "    common_vocab.sort(key=lambda w: m1.wv.vocab[w].count + m2.wv.vocab[w].count,reverse=True)\n",
    "\n",
    "    # convert gensim w2v to numpy array\n",
    "    m1_np = np.zeros((num_words, 300))\n",
    "    m2_np = np.zeros((num_words, 300))\n",
    "    \n",
    "    for i in range(num_words):\n",
    "        vec = m1.wv[common_vocab[i]]\n",
    "        m1_np[i] = vec\n",
    "        vec = m2.wv[common_vocab[i]]\n",
    "        m2_np[i] = vec\n",
    "        \n",
    "    # each vector represent a relationship between a word and all the other words + the word itself\n",
    "    cosim_m1 = cosine_similarity(m1_np, m1_np)\n",
    "    cosim_m2 = cosine_similarity(m2_np, m2_np)\n",
    "    \n",
    "    sem_diff = []\n",
    "    \n",
    "    for i in range(num_words):\n",
    "        sem_diff.append(cosine_similarity(cosim_m1[i].reshape(1, -1), cosim_m2[i].reshape(1, -1))[0][0])\n",
    "        \n",
    "    return sem_diff, common_vocab"
   ]
  },
  {
   "cell_type": "code",
   "execution_count": 3,
   "metadata": {},
   "outputs": [],
   "source": [
    "def diff_two_w2v_some_nei(m1, m2, num_words, num_nei):\n",
    "    \"\"\"\n",
    "    Compute difference between two word2vec models based on each word's relationship with n nearest neighbors.\n",
    "    \"\"\"\n",
    "    \n",
    "    # pick common words between two embeddings and sort them\n",
    "    common_vocab = set(m1.wv.vocab.keys())&set(m2.wv.vocab.keys())\n",
    "    common_vocab = list(common_vocab)\n",
    "    common_vocab.sort(key=lambda w: m1.wv.vocab[w].count + m2.wv.vocab[w].count,reverse=True)\n",
    "\n",
    "    # convert gensim w2v to numpy array\n",
    "    m1_np = np.zeros((num_words, 300))\n",
    "    m2_np = np.zeros((num_words, 300))\n",
    "    \n",
    "    for i in range(num_words):\n",
    "        vec = m1.wv[common_vocab[i]]\n",
    "        m1_np[i] = vec\n",
    "        vec = m2.wv[common_vocab[i]]\n",
    "        m2_np[i] = vec\n",
    "        \n",
    "    # each vector represent a relationship between a word and all the other words + the word itself\n",
    "    cosim_m1 = cosine_similarity(m1_np, m1_np)\n",
    "    cosim_m2 = cosine_similarity(m2_np, m2_np)\n",
    "    \n",
    "    m1_closest_words = []\n",
    "    m2_closest_words = []\n",
    "    \n",
    "    for w in range(len(cosim_m1)):\n",
    "        closest = sorted(range(len(cosim_m1[w])), key=lambda i: cosim_m1[w][i], reverse=True)\n",
    "        m1_closest_words.append(closest)\n",
    "    \n",
    "    #for w in range(len(cosim_m2)):\n",
    "    #    closest = sorted(range(len(cosim_m2[w])), key=lambda i: cosim_m2[w][i], reverse=True)\n",
    "    #    m2_closest_words.append(closest)\n",
    "        \n",
    "    n_closest_words_in_m1 = [] # 2000*num_nei matrix (num_nei neighboring words per each word)\n",
    "    n_closest_words_in_m2 = []  # 2000*num_nei matrix (same as above)\n",
    "\n",
    "    for i in range(num_words):\n",
    "        word_m1 = [] # cosine simliarity between 20 neighboring words in m1\n",
    "        word_m2 = []  # cosine simliarity between the same 20 words above in m2\n",
    "        # exclude itself (so start with 1 not 0)\n",
    "        for j in range(1,num_nei):\n",
    "            nei_index = m1_closest_words[i][j]\n",
    "            word_m1.append(cosim_m1[i][nei_index])\n",
    "            word_m2.append(cosim_m2[i][nei_index])\n",
    "        n_closest_words_in_m1.append(word_m1)\n",
    "        n_closest_words_in_m2.append(word_m2)\n",
    "        \n",
    "    sem_diff = []\n",
    "\n",
    "    for i in range(num_words):\n",
    "        ith_word_m1 = np.asarray(n_closest_words_in_m1[i]).reshape(1, -1)\n",
    "        ith_word_m2 = np.asarray(n_closest_words_in_m2[i]).reshape(1, -1)\n",
    "        sem_diff.append(cosine_similarity(ith_word_m1, ith_word_m2)[0][0])\n",
    "        \n",
    "    return sem_diff, common_vocab"
   ]
  },
  {
   "cell_type": "code",
   "execution_count": 4,
   "metadata": {},
   "outputs": [],
   "source": [
    "def most_diff_words(sem_diff, common_vocab, num):\n",
    "    \"\"\"\n",
    "    print n most changing (or different) words and\n",
    "    return the list of words sorted based on the degree of change (or difference) \n",
    "    \"\"\"\n",
    "    \n",
    "    most_diff_words = sorted(range(len(sem_diff)), key=lambda i: sem_diff[i], reverse=False)\n",
    "\n",
    "    print(\"Top\", num, \"most changing word: \")\n",
    "    count = 0\n",
    "    for i in most_diff_words:\n",
    "        print(common_vocab[i], end = ' ')\n",
    "        count += 1\n",
    "        if count > num:\n",
    "            break\n",
    "            \n",
    "    print(\"\\n\")\n",
    "    return most_diff_words"
   ]
  },
  {
   "cell_type": "code",
   "execution_count": 5,
   "metadata": {},
   "outputs": [],
   "source": [
    "def closest_word_in_other_model(m1, m2, word, num_words):\n",
    "    \"\"\"\n",
    "    m1, m2: word2vec models\n",
    "    word: word of interest in m1\n",
    "    num_words: the number of common words shared between two embeddings\n",
    "    \n",
    "    return the closest words in m2 to the given word in m1\n",
    "    \"\"\"\n",
    "    \n",
    "    # pick common words between two embeddings and sort them\n",
    "    common_vocab = set(m1.wv.vocab.keys())&set(m2.wv.vocab.keys())\n",
    "    common_vocab = list(common_vocab)\n",
    "    common_vocab.sort(key=lambda w: m1.wv.vocab[w].count + m2.wv.vocab[w].count,reverse=True)\n",
    "\n",
    "    # convert gensim w2v to numpy array\n",
    "    m1_np = np.zeros((num_words, 300))\n",
    "    m2_np = np.zeros((num_words, 300))\n",
    "    \n",
    "    for i in range(num_words):\n",
    "        vec = m1.wv[common_vocab[i]]\n",
    "        m1_np[i] = vec\n",
    "        vec = m2.wv[common_vocab[i]]\n",
    "        m2_np[i] = vec\n",
    "        \n",
    "    # each vector represent a relationship between a word and all the other words + the word itself\n",
    "    cosim_m1 = cosine_similarity(m1_np, m1_np)\n",
    "    cosim_m2 = cosine_similarity(m2_np, m2_np)\n",
    "    \n",
    "    sem_diff = []\n",
    "    \n",
    "    word_neighbor_in_m1 = cosim_m1[common_vocab.index(word)]\n",
    "    \n",
    "    closest_word_in_m2_index = 0\n",
    "    max_sim = 0\n",
    "\n",
    "    for i in range(num_words):\n",
    "        sim = cosine_similarity(word_neighbor_in_m1.reshape(1, -1), cosim_m2[i].reshape(1, -1))[0][0]\n",
    "        if max_sim < sim:\n",
    "            closest_word_in_m2_index = i\n",
    "            max_sim = sim\n",
    "    \n",
    "    return common_vocab[closest_word_in_m2_index], max_sim"
   ]
  },
  {
   "cell_type": "markdown",
   "metadata": {},
   "source": [
    "# Difference between parties, 1901-2019, 20 years per model"
   ]
  },
  {
   "cell_type": "code",
   "execution_count": 7,
   "metadata": {},
   "outputs": [],
   "source": [
    "# Read word2vec models (3 parties, per 20 year)\n",
    "\n",
    "year = '2001-2019'\n",
    "\n",
    "con_6 = Word2Vec.load('300d_20win\\\\lipad'+year+'con.bin')\n",
    "lib_6 = Word2Vec.load('300d_20win\\\\lipad'+year+'lib.bin')\n",
    "dem_6 = Word2Vec.load('300d_20win\\\\lipad'+year+'dem.bin')\n",
    "\n",
    "year = '1981-2000'\n",
    "\n",
    "con_5 = Word2Vec.load('300d_20win\\\\lipad'+year+'con.bin')\n",
    "lib_5 = Word2Vec.load('300d_20win\\\\lipad'+year+'lib.bin')\n",
    "dem_5 = Word2Vec.load('300d_20win\\\\lipad'+year+'dem.bin')\n",
    "\n",
    "year = '1961-1980'\n",
    "\n",
    "con_4 = Word2Vec.load('300d_20win\\\\lipad'+year+'con.bin')\n",
    "lib_4 = Word2Vec.load('300d_20win\\\\lipad'+year+'lib.bin')\n",
    "dem_4 = Word2Vec.load('300d_20win\\\\lipad'+year+'dem.bin')\n",
    "\n",
    "year = '1941-1960'\n",
    "\n",
    "con_3 = Word2Vec.load('300d_20win\\\\lipad'+year+'con.bin')\n",
    "lib_3 = Word2Vec.load('300d_20win\\\\lipad'+year+'lib.bin')\n",
    "dem_3 = Word2Vec.load('300d_20win\\\\lipad'+year+'dem.bin')\n",
    "\n",
    "year = '1921-1940'\n",
    "\n",
    "con_2 = Word2Vec.load('300d_20win\\\\lipad'+year+'con.bin')\n",
    "lib_2 = Word2Vec.load('300d_20win\\\\lipad'+year+'lib.bin')\n",
    "dem_2 = Word2Vec.load('300d_20win\\\\lipad'+year+'dem.bin')\n",
    "\n",
    "year = '1901-1920'\n",
    "\n",
    "con_1 = Word2Vec.load('300d_20win\\\\lipad'+year+'con.bin')\n",
    "lib_1 = Word2Vec.load('300d_20win\\\\lipad'+year+'lib.bin')"
   ]
  },
  {
   "cell_type": "code",
   "execution_count": 9,
   "metadata": {},
   "outputs": [
    {
     "name": "stdout",
     "output_type": "stream",
     "text": [
      "1901-1920 \n",
      "Top 100 most changing word: \n",
      "scotia con nova grand hut tbe dot trunk foster georgian v t y pro sound edward neither apparently precisely deer breton w scarcely secret tlie rightly prince sproule o kingdom wilfrid marine supposing hudson jacques tupper laurier cold nevertheless mackenzie mann yukon cartier completely sam frederick usually monk sole fielding pre accordingly custom welland chinese don superior red patronage tion shell concession slight nan none utterly renfrew straight inland guysborough carvell strange brunswick highways yes hat columbia lennox peterborough ot tarte nor non lias oliver passage recruiting voluntary arthur unfortunately inasmuch graham assiniboia exchequer rouville distinct supreme f commanding brantford specially \n",
      "\n",
      "1921-1940 \n",
      "Top 100 most changing word: \n",
      "furthermore scotia nova moreover mackenzie dot battleford manion yarmouth drayton nan w neither cahan motherwell t dispute precisely edward distinctly combines none temiscouata comox apparently hudson passage merchant dunning anyway o usually obviously stevens mounted breton blind light yes thornton henry exchequer rightly banking seeing evidently prince hydro wilfrid william continuance useless strike consequently bow exactly false remaining translation shape completely continuing nor major definitely radio altogether wholly single africa robb wellington today alternative saint housing l dead german besides tory content king test somewhat suit free latter bennett trunk concrete society proceeds fraser venture solicitor medicine albert sooner ample returning \n",
      "\n",
      "1941-1960 \n",
      "Top 100 most changing word: \n",
      "nova scotia twillingate essex bonavista william furthermore conscription dot w assistant apparently breton biggar rosetown incidentally laurent precisely quadra arthur centre cape fraser mobilization albert de neither banking nil yes kamloops prince abbott edward cooperative red selective venture moreover plebiscite definitely howe l moose appropriation cross warrant reform laurier overseas harris wartime saint operative infantry o john mounted armed deficiency re partly please altogether hull translation pipe gardiner post rubber rightly t america eglinton zealand greenwood mackenzie imperial merchant yukon virtue finally militia kong diefenbaker kootenay content corps mouth square grand electoral ministry compulsory lawrence twice extraordinary superior fleming japanese hardly \n",
      "\n",
      "1961-1980 \n",
      "Top 100 most changing word: \n",
      "scotia yes nova edward simcoe essex seconded furthermore twillingate breton x presumably view moreover northwest prince dot albert cape neither madam pressing metric don consequently burnaby please cross lapointe apparently progressive de pre design red remaining carleton unanimous finally british arthur chartered light turner winnipeg naturally bell chretien privy columbia bearing white mounted adjourned o sharp nil laurier kootenay cnr precisely notices conservative jack whatsoever james medicine guaranteed edmonton stanfield pipe mackenzie clock conversion cida supplementary oral striking none ministry except nos fraser yet saint heading fit above adjournment secret t kingdom armed mrs fact whereas nam latter maple senior mines \n",
      "\n",
      "1981-2000 \n",
      "Top 100 most changing word: \n",
      "scotia russell edward nova breton thunder metric lalonde british cape red columbia vanier reformers prince progressive liberal quebecois marie nay miss routine clark fraser auto neither bureaucrats turner seconded pearson yea don separation pray reform operative patronage islands de white windsor northwest nays mountain patent agri bloc kamloops madam secondary armed saint cross nisga grand conservative kingston macdonald rain t adjourned bond user royal mines re valley block acid south oceans labrador gun daily carleton none calgary bay mississauga sir hamilton crow canagrex via precisely central wilson senior ei consequently ms free prairie bottom lumber green civil nevertheless mulroney middle orientation \n",
      "\n",
      "2001-2019 \n",
      "Top 100 most changing word: \n",
      "harper endangered conservative liberal british tape nova scotia kelowna stephen edward red universal alliance et inside columbia qu sands abiding progressive solicitor stem sponsorship middle carbon ad labrador trans mountain mulroney scarborough welfare neither drinking prince conservatives class greenhouse trusts gun cape don dying cois missing recovery literacy registry co black resuming white northwest newfoundland ending re liberals waste ultimately winnipeg coalition gulf virtually oas t uniform surrey m de saint yukon martin softwood cross forth armed insurance islands gender zero dairy grand afghan secret sex korea fifth census free pornography james vast kingdom precisely corruption mississauga exact organized calgary east \n",
      "\n"
     ]
    }
   ],
   "source": [
    "# difference b/w liberal and conservative\n",
    "\n",
    "num_words = 3000\n",
    "diff_list_lib_con = []\n",
    "\n",
    "sem_diff, common_vocab = diff_two_w2v_all_nei(con_1, lib_1, num_words)\n",
    "print(\"1901-1920 \")\n",
    "most_diff_words(sem_diff, common_vocab, 100)\n",
    "diff_list_lib_con.append(sum(sem_diff)/len(sem_diff))\n",
    "\n",
    "sem_diff, common_vocab = diff_two_w2v_all_nei(con_2, lib_2, num_words)\n",
    "print(\"1921-1940 \")\n",
    "most_diff_words(sem_diff, common_vocab, 100)\n",
    "diff_list_lib_con.append(sum(sem_diff)/len(sem_diff))\n",
    "\n",
    "sem_diff, common_vocab = diff_two_w2v_all_nei(con_3, lib_3, num_words)\n",
    "print(\"1941-1960 \")\n",
    "most_diff_words(sem_diff, common_vocab, 100)\n",
    "diff_list_lib_con.append(sum(sem_diff)/len(sem_diff))\n",
    "\n",
    "sem_diff, common_vocab = diff_two_w2v_all_nei(con_4, lib_4, num_words)\n",
    "print(\"1961-1980 \")\n",
    "most_diff_words(sem_diff, common_vocab, 100)\n",
    "diff_list_lib_con.append(sum(sem_diff)/len(sem_diff))\n",
    "\n",
    "sem_diff, common_vocab = diff_two_w2v_all_nei(con_5, lib_5, num_words)\n",
    "print(\"1981-2000 \")\n",
    "most_diff_words(sem_diff, common_vocab, 100)\n",
    "diff_list_lib_con.append(sum(sem_diff)/len(sem_diff))\n",
    "\n",
    "sem_diff, common_vocab = diff_two_w2v_all_nei(con_6, lib_6, num_words)\n",
    "print(\"2001-2019 \")\n",
    "most_diff_words(sem_diff, common_vocab, 100)\n",
    "diff_list_lib_con.append(sum(sem_diff)/len(sem_diff))"
   ]
  },
  {
   "cell_type": "code",
   "execution_count": 13,
   "metadata": {},
   "outputs": [
    {
     "data": {
      "image/png": "[encoded data removed]",
      "text/plain": [
       "<Figure size 432x288 with 1 Axes>"
      ]
     },
     "metadata": {
      "needs_background": "light"
     },
     "output_type": "display_data"
    }
   ],
   "source": [
    "years = [1910, 1930, 1950, 1970, 1990, 2010]\n",
    "\n",
    "index = np.arange(len(years))\n",
    "plt.bar(index, diff_list_lib_con)\n",
    "plt.xlabel('Years', fontsize=10)\n",
    "plt.ylabel('Cosine similarity', fontsize=10)\n",
    "plt.xticks(index, years, fontsize=10, rotation=30)\n",
    "plt.title('Cosine similarity between word2vec of\\n Conservertive Party and Liberal Party')\n",
    "axes = plt.gca()\n",
    "axes.set_ylim([0.8,0.92])\n",
    "plt.show()"
   ]
  },
  {
   "cell_type": "code",
   "execution_count": 11,
   "metadata": {},
   "outputs": [
    {
     "name": "stdout",
     "output_type": "stream",
     "text": [
      "1941-1960 \n",
      "Top 100 most changing word: \n",
      "nan furthermore nova scotia edward william rosetown dot incidentally moreover quadra breton translation expedient biggar harris yes exchange conscription please square centre w assistant saint operative definitely consequently de movement electoral publicly neither albert mounted pool jaw apparently county l prefer churchill fraser usual senior selective desired john essex merchant naturally proceeding rank greenwood despite nil banking partly green imperial mackenzie hong seaway cooperative altogether cape normally meantime precisely planned description vocational kootenay gold o concrete armed fit box abbott wartime commanding progressive laurent arthur royal prince straight moose cross winkler wholly laurier uniform waste immigration reserve advance assiniboia group finally \n",
      "\n",
      "1961-1980 \n",
      "Top 100 most changing word: \n",
      "yes knowles edward scotia furthermore nova presumably burnaby view x consequently please moreover seconded ordinary nil de bell naturally notices partly douglas saint simcoe pre breton notwithstanding apparently electoral dot publicly deferred oshawa lambert british inside northwest neither textile nanaimo remaining publicity turner armed madam adjourned post whereas lapointe cross prince precisely nos upper practically exact usual pressing kootenay metric finally ndp skeena urgent medicine meantime cape albert columbia white talks operative adjournment o unanimous latter greenwood clock winnipeg privy constantly dairy expired none carter ending interrupt redistribution county renewal disability macdonald floor kingdom immediately democratic supplement languages q outstanding whenever \n",
      "\n",
      "1981-2000 \n",
      "Top 100 most changing word: \n",
      "edward red vis scotia british kamloops nova ending quebecois breton remaining consequently bloc agri columbia burnaby cape pearson de et neither white thunder prince operative routine track translation allotted exact corporate miss medium furthermore don precisely francophones restraint dairy ordinary nos orientation fraser mississauga l principal nisga ndp mountain oceans central carleton james branch south liberal royal via mission churchill labrador merely pre cross progressive gun northwest th armed arm g balanced apparently hardly usual ill please seconded repeatedly languages free visible block accordingly indeed kingston r pray mark t distinct challenge official blood fine nevertheless co nor votes yukon adjournment \n",
      "\n",
      "2001-2019 \n",
      "Top 100 most changing word: \n",
      "edward ndp scotia british asbestos nova gomery democrats trusts injection mississauga inside trans northwest et virtually ending burnaby columbia mountain liberal westminster postal please cross dying middle cois james don above red prince class cetera stephen languages qu shipbuilding gatineau tis sound opening lac ordinary precisely neither yes armed labrador bottom sponsorship panama coalition re nevertheless corporate harper newfoundland literacy task secondary sized nunavut kelowna agri strikes exact colombia bay signing havens minority t smart gun drinking welfare insurance co islands fundraising official general ultimately post treasury merit yukon territories jordan nor eye census vast constantly supplement india bec white civilian \n",
      "\n"
     ]
    }
   ],
   "source": [
    "# difference b/w liberal and NDP\n",
    "\n",
    "diff_list_lib_dem = [0, 0]\n",
    "\n",
    "sem_diff, common_vocab = diff_two_w2v_all_nei(dem_3, lib_3, num_words)\n",
    "print(\"1941-1960 \")\n",
    "most_diff_words(sem_diff, common_vocab, 100)\n",
    "diff_list_lib_dem.append(sum(sem_diff)/len(sem_diff))\n",
    "\n",
    "sem_diff, common_vocab = diff_two_w2v_all_nei(dem_4, lib_4, num_words)\n",
    "print(\"1961-1980 \")\n",
    "most_diff_words(sem_diff, common_vocab, 100)\n",
    "diff_list_lib_dem.append(sum(sem_diff)/len(sem_diff))\n",
    "\n",
    "sem_diff, common_vocab = diff_two_w2v_all_nei(dem_5, lib_5, num_words)\n",
    "print(\"1981-2000 \")\n",
    "most_diff_words(sem_diff, common_vocab, 100)\n",
    "diff_list_lib_dem.append(sum(sem_diff)/len(sem_diff))\n",
    "\n",
    "sem_diff, common_vocab = diff_two_w2v_all_nei(dem_6, lib_6, num_words)\n",
    "print(\"2001-2019 \")\n",
    "most_diff_words(sem_diff, common_vocab, 100)\n",
    "diff_list_lib_dem.append(sum(sem_diff)/len(sem_diff))"
   ]
  },
  {
   "cell_type": "code",
   "execution_count": 14,
   "metadata": {},
   "outputs": [
    {
     "data": {
      "image/png": "[encoded data removed]",
      "text/plain": [
       "<Figure size 432x288 with 1 Axes>"
      ]
     },
     "metadata": {
      "needs_background": "light"
     },
     "output_type": "display_data"
    }
   ],
   "source": [
    "years = [1950, 1970, 1990, 2010]\n",
    "\n",
    "index = np.arange(len(years))\n",
    "plt.bar(index, diff_list_lib_dem[2:])\n",
    "plt.xlabel('Years', fontsize=10)\n",
    "plt.ylabel('Cosine similarity', fontsize=10)\n",
    "plt.xticks(index, years, fontsize=10, rotation=30)\n",
    "plt.title('Cosine similarity between word2vecs of NDP and Liberal Party')\n",
    "axes = plt.gca()\n",
    "axes.set_ylim([0.8,0.92])\n",
    "plt.show()"
   ]
  },
  {
   "cell_type": "code",
   "execution_count": 15,
   "metadata": {},
   "outputs": [
    {
     "name": "stdout",
     "output_type": "stream",
     "text": [
      "1901-1920 \n",
      "Top 100 most changing word: \n",
      "con scotia sound grand georgian friend general highways frankly yukon apparently reform pro v dundonald rightly latter mountain splendid non namely frank partly trunk extreme dot formerly sole tbe sight gentleman usual nevertheless shell altogether completely hut canals nova jacques particular precisely ot undoubtedly peace none rouville access really scarcely secret almost honestly itself than patronage red distinct today utterly again everybody premier regina wholly albert mine causes prince an first superior mackenzie reaching rural translation custom face prairie tion ever definite charlottetown broad real tory recruiting supplementary exhibition pockets specially alone messrs brantford still kingdom columbia robert accordingly warrant deep \n",
      "\n",
      "1 finished\n",
      "1921-1940 \n",
      "Top 100 most changing word: \n",
      "furthermore dispute none rightly moreover mackenzie light nova yarmouth temiscouata friend proceeds remaining scotia distinctly usual usually nan regardless gentleman t dunning cahan exchequer perfect motherwell hydro returning post directly venture canals free mark wholly minister registration appropriate opposite evidently bennett pending correctly continuance unemployment shape namely amongst fact dot obviously somewhat completely preparation institution new consequence general manion picture state ex insurance statutory almost king corner banking open regular distinction implement comox idle alleged outstanding drayton leader standpoint member vested spite pressure combines particular fraser munitions sufficiently mr he u battleford today lapointe really transport workmen apparently medicine precisely removal \n",
      "\n",
      "2 finished\n",
      "1941-1960 \n",
      "Top 100 most changing word: \n",
      "furthermore incidentally moreover nil preference twillingate nova warrant william cooperative compulsory apparently hull venture arthur plebiscite assistant oh conscription laurent preparation de utmost scotia selective controller again above laurier neither cross partly edward eglinton reform essex kamloops keeping white centre zealand abbott assiniboia albert yes late merchant united quadra nanaimo social formal bonavista deep secret voluntary w opposite superior definitely state rosetown twice banking t civilian green welfare naturally l senate advance test minor anti worthy altogether normally precisely grand strictly hands just cold friend regardless translation fire fraser standing obviously truth greenwood ample desires mutual reaching character imperial fort rest \n",
      "\n",
      "3 finished\n",
      "1961-1980 \n",
      "Top 100 most changing word: \n",
      "furthermore o clock edward moreover design seconded view white unanimous scotia presumably don carleton acting dates apparently supplementary immediately yes ordinary principal nos edmonton cross again gallery red latter madam official absolute simcoe please nova dominion constantly oh prime gentleman central front state speaker outstanding usual progressive general prince sir opposite parliamentary heads immediate petro maple fact except normal complete falls exact northwest yet cida character notices follows guaranteed bell somehow unification winnipeg naturally ensign round reads arises sitting metric flag light breakdown non names consent friend passing procedural ministerial internal throne obviously chretien specifically twillingate ndp term privy range re \n",
      "\n",
      "4 finished\n",
      "1981-2000 \n",
      "Top 100 most changing word: \n",
      "scotia tories miss nays lalonde red russell breton tory edward metric quebecois de seconded progressive nay bloc pray pearson reform british yea reformers clark madam trudeau turner mrs re canagrex closure cross moreover liberal private sick causes don conservative constantly property james thunder notwithstanding renewal black carleton opposite cape patent gst kamloops each moves patronage alone marie voluntary columbia equity independence prince l liberals only previous macdonald green testing separation whereas presence central twice block privatization nisga track apparently routine zero vanier again free rural operative politicians bay blood smoking just wilson mulroney human search volunteer m recorded northwest ending privy \n",
      "\n",
      "5 finished\n",
      "2001-2019 \n",
      "Top 100 most changing word: \n",
      "universal liberal inside red missing endangered conservative tape coalition secret et kelowna alliance sponsorship harper returns conservatives don progressive ultimately ad net prince remaining recovery carbon black cbc green scotia please cross gomery registry self white class british edward tough equity nova ending equally scandal recession welfare apparently liberals middle columbia central m cash via fundraising fit ordinary gun opposite killing sex personally long card grand royal human exact alone risen twice leadership consistently consent raising target fraser surrey confederation corruption limits james line arrest pre cuts general above g cutting common hard traditional advanced virtually identity anti sized ethics cois \n",
      "\n",
      "6 finished\n"
     ]
    }
   ],
   "source": [
    "# difference b/w liberal and conservative (only with some nearest neighbors)\n",
    "\n",
    "num_words = 3000\n",
    "num_nei = 20\n",
    "diff_list_lib_con_some = []\n",
    "\n",
    "sem_diff, common_vocab = diff_two_w2v_some_nei(con_1, lib_1, num_words, num_nei)\n",
    "print(\"1901-1920 \")\n",
    "most_diff_words(sem_diff, common_vocab, 100)\n",
    "diff_list_lib_con_some.append(sum(sem_diff)/len(sem_diff))\n",
    "print(\"1 finished\")\n",
    "\n",
    "sem_diff, common_vocab = diff_two_w2v_some_nei(con_2, lib_2, num_words, num_nei)\n",
    "print(\"1921-1940 \")\n",
    "most_diff_words(sem_diff, common_vocab, 100)\n",
    "diff_list_lib_con_some.append(sum(sem_diff)/len(sem_diff))\n",
    "print(\"2 finished\")\n",
    "\n",
    "sem_diff, common_vocab = diff_two_w2v_some_nei(con_3, lib_3, num_words, num_nei)\n",
    "print(\"1941-1960 \")\n",
    "most_diff_words(sem_diff, common_vocab, 100)\n",
    "diff_list_lib_con_some.append(sum(sem_diff)/len(sem_diff))\n",
    "print(\"3 finished\")\n",
    "\n",
    "sem_diff, common_vocab = diff_two_w2v_some_nei(con_4, lib_4, num_words, num_nei)\n",
    "print(\"1961-1980 \")\n",
    "most_diff_words(sem_diff, common_vocab, 100)\n",
    "diff_list_lib_con_some.append(sum(sem_diff)/len(sem_diff))\n",
    "print(\"4 finished\")\n",
    "\n",
    "sem_diff, common_vocab = diff_two_w2v_some_nei(con_5, lib_5, num_words, num_nei)\n",
    "print(\"1981-2000 \")\n",
    "most_diff_words(sem_diff, common_vocab, 100)\n",
    "diff_list_lib_con_some.append(sum(sem_diff)/len(sem_diff))\n",
    "print(\"5 finished\")\n",
    "\n",
    "sem_diff, common_vocab = diff_two_w2v_some_nei(con_6, lib_6, num_words, num_nei)\n",
    "print(\"2001-2019 \")\n",
    "most_diff_words(sem_diff, common_vocab, 100)\n",
    "diff_list_lib_con_some.append(sum(sem_diff)/len(sem_diff))\n",
    "print(\"6 finished\")"
   ]
  },
  {
   "cell_type": "code",
   "execution_count": 16,
   "metadata": {},
   "outputs": [
    {
     "data": {
      "image/png": "[encoded data removed]",
      "text/plain": [
       "<Figure size 432x288 with 1 Axes>"
      ]
     },
     "metadata": {
      "needs_background": "light"
     },
     "output_type": "display_data"
    }
   ],
   "source": [
    "years = [1910, 1930, 1950, 1970, 1990, 2010]\n",
    "\n",
    "index = np.arange(len(years))\n",
    "plt.bar(index, diff_list_lib_con_some)\n",
    "plt.xlabel('Years', fontsize=10)\n",
    "plt.ylabel('Cosine similarity', fontsize=10)\n",
    "plt.xticks(index, years, fontsize=10, rotation=30)\n",
    "plt.title('Cosine similarity between word2vec of\\n Conservertive Party and Liberal Party\\n (only 20 nearest neighbors considered)')\n",
    "axes = plt.gca()\n",
    "axes.set_ylim([0.98,1])\n",
    "plt.show()"
   ]
  },
  {
   "cell_type": "code",
   "execution_count": 17,
   "metadata": {},
   "outputs": [
    {
     "name": "stdout",
     "output_type": "stream",
     "text": [
      "1941-1960 \n",
      "Top 100 most changing word: \n",
      "furthermore edward scotia twillingate nova dot essex incidentally biggar bonavista churchill centre naturally exchange consequently rosetown reserve movement normally assiniboia arthur despite film banking senior box prefer translation saint brigade obviously group proceeding neither mounted gold venture mere green county parliamentary breton description jaw bar british orderly l apart progressive cooperative precisely pipe japanese above operative warning partly wartime south zealand q vocational anti kootenay altogether latter assistant pool historic white royal foundation ministry content desired grand wholly uniform fifth publicly printing seaway usual meantime old fleming superior hardly seeing america don knowles maritime insurance definitely criminal fit radio brunswick post \n",
      "\n",
      "1961-1980 \n",
      "Top 100 most changing word: \n",
      "knowles edward nova olympic bell scotia breton saint cape simcoe escalation northwest metric design consequently british cross ad naturally unification straight carter operative progressive neither red bonavista dot essex textile carleton presumably prince corporate publicly armed james albert cida kingdom maple undoubtedly ensign post twillingate edmonton jack kootenay columbia chartered white guaranteed douglas medicine don re arthur madam precisely dominion foundation ill moose excise county notwithstanding remaining territories navy laurier communist proof redistribution anti de multinational package ordinary sands reader bilingual skeena incidentally mackenzie nam clean yukon practically v disability bearing retired band maritime arms supplement deliberate gun interim supreme mines \n",
      "\n",
      "1981-2000 \n",
      "Top 100 most changing word: \n",
      "upper yea nay scotia kamloops edward metric nova breton cape red thunder consequently deferred british nays pool vanier progressive burnaby humbly adjourned remaining neither prince corporate patent gun white routine de pray track operative universal nisga drug labrador ethics expired adjournment ndp miss merely furthermore alliance languages nevertheless block cross armed northwest branch auto apparently columbia wise saint principal mississauga sentencing nos moves zero black fraser canagrex organized quick allowances pact via star visible don mrs accordingly usual south green churchill m apart multinational grand ad please ordinary reform renewal translation bay windsor borrowing lalonde islands notwithstanding reagan race ei maceachen \n",
      "\n",
      "2001-2019 \n",
      "Top 100 most changing word: \n",
      "stem harper scotia ndp nova trans british endangered universal asbestos conservative shipbuilding red please cell afghan honduras westminster gun blind burnaby injection democrats census coalition cois qu abiding postal sands columbia languages james class creators northwest mountain prince ending labrador cross tape progressive bush neither solicitor colombia bay carbon panama sound don race uniform insurance et net george greenhouse assisted corporate missing balanced cf scarborough title co ad softwood east alliance unprecedented chapter mississauga gulf havens t white gap kingdom sex adult apparently conservatives fit m green secret sized impaired waste equity welfare dairy above official nor vast islands traditional post \n",
      "\n"
     ]
    }
   ],
   "source": [
    "num_words = 3000\n",
    "diff_list_con_dem = [0, 0]\n",
    "\n",
    "sem_diff, common_vocab = diff_two_w2v_all_nei(dem_3, con_3, num_words)\n",
    "print(\"1941-1960 \")\n",
    "most_diff_words(sem_diff, common_vocab, 100)\n",
    "diff_list_con_dem.append(sum(sem_diff)/len(sem_diff))\n",
    "\n",
    "sem_diff, common_vocab = diff_two_w2v_all_nei(dem_4, con_4, num_words)\n",
    "print(\"1961-1980 \")\n",
    "most_diff_words(sem_diff, common_vocab, 100)\n",
    "diff_list_con_dem.append(sum(sem_diff)/len(sem_diff))\n",
    "\n",
    "sem_diff, common_vocab = diff_two_w2v_all_nei(dem_5, con_5, num_words)\n",
    "print(\"1981-2000 \")\n",
    "most_diff_words(sem_diff, common_vocab, 100)\n",
    "diff_list_con_dem.append(sum(sem_diff)/len(sem_diff))\n",
    "\n",
    "sem_diff, common_vocab = diff_two_w2v_all_nei(dem_6, con_6, num_words)\n",
    "print(\"2001-2019 \")\n",
    "most_diff_words(sem_diff, common_vocab, 100)\n",
    "diff_list_con_dem.append(sum(sem_diff)/len(sem_diff))"
   ]
  },
  {
   "cell_type": "code",
   "execution_count": 22,
   "metadata": {},
   "outputs": [
    {
     "data": {
      "image/png": "[encoded data removed]",
      "text/plain": [
       "<Figure size 432x288 with 1 Axes>"
      ]
     },
     "metadata": {
      "needs_background": "light"
     },
     "output_type": "display_data"
    }
   ],
   "source": [
    "years = [1950, 1970, 1990, 2010]\n",
    "    \n",
    "index = np.arange(len(years))\n",
    "plt.bar(index, diff_list_con_dem[2:])\n",
    "plt.xlabel('Years', fontsize=10)\n",
    "plt.ylabel('Cosine similarity', fontsize=10)\n",
    "plt.xticks(index, years, fontsize=10, rotation=30)\n",
    "plt.title('Cosine similarity between word2vec of \\nConservertive Party and NDP')\n",
    "axes = plt.gca()\n",
    "axes.set_ylim([0.8,0.9])\n",
    "plt.show()"
   ]
  },
  {
   "cell_type": "code",
   "execution_count": 25,
   "metadata": {
    "scrolled": true
   },
   "outputs": [
    {
     "name": "stderr",
     "output_type": "stream",
     "text": [
      "C:\\Users\\Jungeun (June) Lim\\Anaconda3\\lib\\site-packages\\ipykernel_launcher.py:3: DeprecationWarning: Call to deprecated `similarity` (Method will be removed in 4.0.0, use self.wv.similarity() instead).\n",
      "  This is separate from the ipykernel package so we can avoid doing imports until\n",
      "C:\\Users\\Jungeun (June) Lim\\Anaconda3\\lib\\site-packages\\ipykernel_launcher.py:4: DeprecationWarning: Call to deprecated `similarity` (Method will be removed in 4.0.0, use self.wv.similarity() instead).\n",
      "  after removing the cwd from sys.path.\n",
      "C:\\Users\\Jungeun (June) Lim\\Anaconda3\\lib\\site-packages\\ipykernel_launcher.py:5: DeprecationWarning: Call to deprecated `similarity` (Method will be removed in 4.0.0, use self.wv.similarity() instead).\n",
      "  \"\"\"\n",
      "C:\\Users\\Jungeun (June) Lim\\Anaconda3\\lib\\site-packages\\ipykernel_launcher.py:6: DeprecationWarning: Call to deprecated `similarity` (Method will be removed in 4.0.0, use self.wv.similarity() instead).\n",
      "  \n",
      "C:\\Users\\Jungeun (June) Lim\\Anaconda3\\lib\\site-packages\\ipykernel_launcher.py:7: DeprecationWarning: Call to deprecated `similarity` (Method will be removed in 4.0.0, use self.wv.similarity() instead).\n",
      "  import sys\n",
      "C:\\Users\\Jungeun (June) Lim\\Anaconda3\\lib\\site-packages\\ipykernel_launcher.py:8: DeprecationWarning: Call to deprecated `similarity` (Method will be removed in 4.0.0, use self.wv.similarity() instead).\n",
      "  \n"
     ]
    }
   ],
   "source": [
    "women_men_sim = []\n",
    "\n",
    "women_men_sim.append(con_1.similarity('woman', 'man'))\n",
    "women_men_sim.append(con_2.similarity('woman', 'man'))\n",
    "women_men_sim.append(con_3.similarity('woman', 'man'))\n",
    "women_men_sim.append(con_4.similarity('woman', 'man'))\n",
    "women_men_sim.append(con_5.similarity('woman', 'man'))\n",
    "women_men_sim.append(con_6.similarity('woman', 'man'))\n"
   ]
  },
  {
   "cell_type": "code",
   "execution_count": 27,
   "metadata": {},
   "outputs": [
    {
     "data": {
      "image/png": "[encoded data removed]",
      "text/plain": [
       "<Figure size 432x288 with 1 Axes>"
      ]
     },
     "metadata": {
      "needs_background": "light"
     },
     "output_type": "display_data"
    }
   ],
   "source": [
    "years = [1910, 1930, 1950, 1970, 1990, 2010]\n",
    "\n",
    "index = np.arange(len(years))\n",
    "plt.bar(index, women_men_sim)\n",
    "plt.xlabel('Years', fontsize=10)\n",
    "plt.ylabel('Cosine similarity between \"women\" and \"men\"', fontsize=10)\n",
    "plt.xticks(index, years, fontsize=10, rotation=30)\n",
    "plt.title('Cosine similarity between \"women\" and \"men\"\\n(Conservative Party)')\n",
    "axes = plt.gca()\n",
    "axes.set_ylim([0,1])\n",
    "plt.show()"
   ]
  },
  {
   "cell_type": "code",
   "execution_count": 28,
   "metadata": {},
   "outputs": [
    {
     "name": "stderr",
     "output_type": "stream",
     "text": [
      "C:\\Users\\Jungeun (June) Lim\\Anaconda3\\lib\\site-packages\\ipykernel_launcher.py:3: DeprecationWarning: Call to deprecated `similarity` (Method will be removed in 4.0.0, use self.wv.similarity() instead).\n",
      "  This is separate from the ipykernel package so we can avoid doing imports until\n",
      "C:\\Users\\Jungeun (June) Lim\\Anaconda3\\lib\\site-packages\\ipykernel_launcher.py:4: DeprecationWarning: Call to deprecated `similarity` (Method will be removed in 4.0.0, use self.wv.similarity() instead).\n",
      "  after removing the cwd from sys.path.\n",
      "C:\\Users\\Jungeun (June) Lim\\Anaconda3\\lib\\site-packages\\ipykernel_launcher.py:5: DeprecationWarning: Call to deprecated `similarity` (Method will be removed in 4.0.0, use self.wv.similarity() instead).\n",
      "  \"\"\"\n",
      "C:\\Users\\Jungeun (June) Lim\\Anaconda3\\lib\\site-packages\\ipykernel_launcher.py:6: DeprecationWarning: Call to deprecated `similarity` (Method will be removed in 4.0.0, use self.wv.similarity() instead).\n",
      "  \n",
      "C:\\Users\\Jungeun (June) Lim\\Anaconda3\\lib\\site-packages\\ipykernel_launcher.py:7: DeprecationWarning: Call to deprecated `similarity` (Method will be removed in 4.0.0, use self.wv.similarity() instead).\n",
      "  import sys\n",
      "C:\\Users\\Jungeun (June) Lim\\Anaconda3\\lib\\site-packages\\ipykernel_launcher.py:8: DeprecationWarning: Call to deprecated `similarity` (Method will be removed in 4.0.0, use self.wv.similarity() instead).\n",
      "  \n"
     ]
    }
   ],
   "source": [
    "women_men_sim = []\n",
    "\n",
    "women_men_sim.append(lib_1.similarity('woman', 'man'))\n",
    "women_men_sim.append(lib_2.similarity('woman', 'man'))\n",
    "women_men_sim.append(lib_3.similarity('woman', 'man'))\n",
    "women_men_sim.append(lib_4.similarity('woman', 'man'))\n",
    "women_men_sim.append(lib_5.similarity('woman', 'man'))\n",
    "women_men_sim.append(lib_6.similarity('woman', 'man'))"
   ]
  },
  {
   "cell_type": "code",
   "execution_count": 29,
   "metadata": {},
   "outputs": [
    {
     "data": {
      "image/png": "[encoded data removed]",
      "text/plain": [
       "<Figure size 432x288 with 1 Axes>"
      ]
     },
     "metadata": {
      "needs_background": "light"
     },
     "output_type": "display_data"
    }
   ],
   "source": [
    "years = [1910, 1930, 1950, 1970, 1990, 2010]\n",
    "\n",
    "index = np.arange(len(years))\n",
    "plt.bar(index, women_men_sim)\n",
    "plt.xlabel('Years', fontsize=10)\n",
    "plt.ylabel('Cosine similarity between \"women\" and \"men\"', fontsize=10)\n",
    "plt.xticks(index, years, fontsize=10, rotation=30)\n",
    "plt.title('Cosine similarity between \"women\" and \"men\"\\n(Liberal Party)')\n",
    "axes = plt.gca()\n",
    "axes.set_ylim([0,1])\n",
    "plt.show()"
   ]
  },
  {
   "cell_type": "markdown",
   "metadata": {},
   "source": [
    "# Difference between parties, 1971-2019, 5 years per model"
   ]
  },
  {
   "cell_type": "code",
   "execution_count": 65,
   "metadata": {},
   "outputs": [],
   "source": [
    "year = \"1971-1975\"\n",
    "\n",
    "con_1 = Word2Vec.load('300d_20win_5y\\\\300d_20winlipad'+year+'con.bin')\n",
    "lib_1 = Word2Vec.load('300d_20win_5y\\\\300d_20winlipad'+year+'lib.bin')\n",
    "dem_1 = Word2Vec.load('300d_20win_5y\\\\300d_20winlipad'+year+'dem.bin')\n",
    "\n",
    "year = \"1976-1980\"\n",
    "\n",
    "con_2 = Word2Vec.load('300d_20win_5y\\\\300d_20winlipad'+year+'con.bin')\n",
    "lib_2 = Word2Vec.load('300d_20win_5y\\\\300d_20winlipad'+year+'lib.bin')\n",
    "dem_2 = Word2Vec.load('300d_20win_5y\\\\300d_20winlipad'+year+'dem.bin')\n",
    "\n",
    "year = \"1981-1985\"\n",
    "\n",
    "con_3 = Word2Vec.load('300d_20win_5y\\\\300d_20winlipad'+year+'con.bin')\n",
    "lib_3 = Word2Vec.load('300d_20win_5y\\\\300d_20winlipad'+year+'lib.bin')\n",
    "dem_3 = Word2Vec.load('300d_20win_5y\\\\300d_20winlipad'+year+'dem.bin')\n",
    "\n",
    "year = \"1986-1990\"\n",
    "\n",
    "con_4 = Word2Vec.load('300d_20win_5y\\\\300d_20winlipad'+year+'con.bin')\n",
    "lib_4 = Word2Vec.load('300d_20win_5y\\\\300d_20winlipad'+year+'lib.bin')\n",
    "dem_4 = Word2Vec.load('300d_20win_5y\\\\300d_20winlipad'+year+'dem.bin')\n",
    "\n",
    "year = \"1991-1995\"\n",
    "\n",
    "con_5 = Word2Vec.load('300d_20win_5y\\\\300d_20winlipad'+year+'con.bin')\n",
    "lib_5 = Word2Vec.load('300d_20win_5y\\\\300d_20winlipad'+year+'lib.bin')\n",
    "dem_5 = Word2Vec.load('300d_20win_5y\\\\300d_20winlipad'+year+'dem.bin')\n",
    "\n",
    "year = \"1996-2000\"\n",
    "\n",
    "con_6 = Word2Vec.load('300d_20win_5y\\\\300d_20winlipad'+year+'con.bin')\n",
    "lib_6 = Word2Vec.load('300d_20win_5y\\\\300d_20winlipad'+year+'lib.bin')\n",
    "dem_6 = Word2Vec.load('300d_20win_5y\\\\300d_20winlipad'+year+'dem.bin')\n",
    "\n",
    "year = \"2001-2005\"\n",
    "\n",
    "con_7 = Word2Vec.load('300d_20win_5y\\\\300d_20winlipad'+year+'con.bin')\n",
    "lib_7 = Word2Vec.load('300d_20win_5y\\\\300d_20winlipad'+year+'lib.bin')\n",
    "dem_7 = Word2Vec.load('300d_20win_5y\\\\300d_20winlipad'+year+'dem.bin')\n",
    "\n",
    "year = \"2006-2010\"\n",
    "\n",
    "con_8 = Word2Vec.load('300d_20win_5y\\\\300d_20winlipad'+year+'con.bin')\n",
    "lib_8 = Word2Vec.load('300d_20win_5y\\\\300d_20winlipad'+year+'lib.bin')\n",
    "dem_8 = Word2Vec.load('300d_20win_5y\\\\300d_20winlipad'+year+'dem.bin')\n",
    "\n",
    "year = \"2011-2015\"\n",
    "\n",
    "con_9 = Word2Vec.load('300d_20win_5y\\\\300d_20winlipad'+year+'con.bin')\n",
    "lib_9 = Word2Vec.load('300d_20win_5y\\\\300d_20winlipad'+year+'lib.bin')\n",
    "dem_9 = Word2Vec.load('300d_20win_5y\\\\300d_20winlipad'+year+'dem.bin')\n",
    "\n",
    "year = \"2016-2019\"\n",
    "\n",
    "con_10 = Word2Vec.load('300d_20win_5y\\\\300d_20winlipad'+year+'con.bin')\n",
    "lib_10 = Word2Vec.load('300d_20win_5y\\\\300d_20winlipad'+year+'lib.bin')\n",
    "dem_10 = Word2Vec.load('300d_20win_5y\\\\300d_20winlipad'+year+'dem.bin')"
   ]
  },
  {
   "cell_type": "code",
   "execution_count": 30,
   "metadata": {},
   "outputs": [
    {
     "name": "stdout",
     "output_type": "stream",
     "text": [
      "1971-\n",
      "Top 100 most changing word: \n",
      "scotia con nova grand hut tbe dot trunk foster georgian v t y pro sound edward neither apparently precisely deer breton w scarcely secret tlie rightly prince sproule o kingdom wilfrid marine supposing hudson jacques tupper laurier cold nevertheless mackenzie mann yukon cartier completely sam frederick usually monk sole fielding pre accordingly custom welland chinese don superior red patronage tion shell concession slight nan none utterly renfrew straight inland guysborough carvell strange brunswick highways yes hat columbia lennox peterborough ot tarte nor non lias oliver passage recruiting voluntary arthur unfortunately inasmuch graham assiniboia exchequer rouville distinct supreme f commanding brantford specially \n",
      "\n",
      "1976-\n",
      "Top 100 most changing word: \n",
      "furthermore scotia nova moreover mackenzie dot battleford manion yarmouth drayton nan w neither cahan motherwell t dispute precisely edward distinctly combines none temiscouata comox apparently hudson passage merchant dunning anyway o usually obviously stevens mounted breton blind light yes thornton henry exchequer rightly banking seeing evidently prince hydro wilfrid william continuance useless strike consequently bow exactly false remaining translation shape completely continuing nor major definitely radio altogether wholly single africa robb wellington today alternative saint housing l dead german besides tory content king test somewhat suit free latter bennett trunk concrete society proceeds fraser venture solicitor medicine albert sooner ample returning \n",
      "\n",
      "1981-\n",
      "Top 100 most changing word: \n",
      "nova scotia twillingate essex bonavista william furthermore conscription dot w assistant apparently breton biggar rosetown incidentally laurent precisely quadra arthur centre cape fraser mobilization albert de neither banking nil yes kamloops prince abbott edward cooperative red selective venture moreover plebiscite definitely howe l moose appropriation cross warrant reform laurier overseas harris wartime saint operative infantry o john mounted armed deficiency re partly please altogether hull translation pipe gardiner post rubber rightly t america eglinton zealand greenwood mackenzie imperial merchant yukon virtue finally militia kong diefenbaker kootenay content corps mouth square grand electoral ministry compulsory lawrence twice extraordinary superior fleming japanese hardly \n",
      "\n",
      "1986-\n",
      "Top 100 most changing word: \n",
      "scotia yes nova edward simcoe essex seconded furthermore twillingate breton x presumably view moreover northwest prince dot albert cape neither madam pressing metric don consequently burnaby please cross lapointe apparently progressive de pre design red remaining carleton unanimous finally british arthur chartered light turner winnipeg naturally bell chretien privy columbia bearing white mounted adjourned o sharp nil laurier kootenay cnr precisely notices conservative jack whatsoever james medicine guaranteed edmonton stanfield pipe mackenzie clock conversion cida supplementary oral striking none ministry except nos fraser yet saint heading fit above adjournment secret t kingdom armed mrs fact whereas nam latter maple senior mines \n",
      "\n",
      "1991-\n",
      "Top 100 most changing word: \n",
      "scotia russell edward nova breton thunder metric lalonde british cape red columbia vanier reformers prince progressive liberal quebecois marie nay miss routine clark fraser auto neither bureaucrats turner seconded pearson yea don separation pray reform operative patronage islands de white windsor northwest nays mountain patent agri bloc kamloops madam secondary armed saint cross nisga grand conservative kingston macdonald rain t adjourned bond user royal mines re valley block acid south oceans labrador gun daily carleton none calgary bay mississauga sir hamilton crow canagrex via precisely central wilson senior ei consequently ms free prairie bottom lumber green civil nevertheless mulroney middle orientation \n",
      "\n",
      "1996-\n",
      "Top 100 most changing word: \n",
      "harper endangered conservative liberal british tape nova scotia kelowna stephen edward red universal alliance et inside columbia qu sands abiding progressive solicitor stem sponsorship middle carbon ad labrador trans mountain mulroney scarborough welfare neither drinking prince conservatives class greenhouse trusts gun cape don dying cois missing recovery literacy registry co black resuming white northwest newfoundland ending re liberals waste ultimately winnipeg coalition gulf virtually oas t uniform surrey m de saint yukon martin softwood cross forth armed insurance islands gender zero dairy grand afghan secret sex korea fifth census free pornography james vast kingdom precisely corruption mississauga exact organized calgary east \n",
      "\n",
      "2001-\n",
      "Top 100 most changing word: \n",
      "conservative bureaucracy blind failing ad finally failed replacement cois alliance apparently showing surrey corruption sadly ill usual ultimate critic mismanagement progressive passing tien usually track chr despite yet nunavut whenever liberals neither virtually breaking failure columbia british et secret responding task unfortunately gentleman constantly lasalle challenge closure shape quebecois bureaucrats registry red alone endangered leaving actually weak ending mard scheme eventually zero extraordinary repeatedly traditional allocation governing gun bear forth closing millions black whatsoever heads liberal none basically agenda wishes remarkable conservatives relation generally while above procurement lists scotia publicly nova fail wherever minority states now drinking writing secretary definitely instead \n",
      "\n",
      "2006-\n",
      "Top 100 most changing word: \n",
      "tape liberal sponsorship definitely failing coalition vis pickering kelowna bear returns block precisely tenured corruption et wing extending universal closing cois fails tackling broken failure title etobicoke patient columbia fit fail missing repeatedly update fast secret yet trust cetera critic indeed qu consistently abiding acting barley wascana inaction lay track technical finally throne please prisons malpeque sound absence secretary seal trusts yes liberals library consultants red sadly surely apparently notwithstanding remaining none progressive virtually registry whatsoever refuses generally hunt british census cbc cancelled conservative delivering killing wheat fine ignored literacy unprecedented senators ideological directly responding agri gun minister uniform leader publicly \n",
      "\n",
      "2011-\n",
      "Top 100 most changing word: \n",
      "universal inside merit critically stoppage forth mail alone zero closing strongest quebeckers pro degree please posed digital ultimately broken starting suspect fairly carbon vast fit bear extending liberal quo ineffective guelph exact strikes reverse bargaining gun continuing impaired search virtually finally accord massive delay update gulf registry crack unprecedented inappropriate keeping indeed unions fail contrast equally streets killing long formula advise barbaric productive quick closer ending immigration re conservative builds cuts pooled class asylum wasteful chr yea apparently throne failed considerable whole rising sort white qu proactive generally extraordinary worst thus what returning deleting id sands regularly petitioners closely ready returns \n",
      "\n",
      "2016-\n",
      "Top 100 most changing word: \n",
      "inside conservative closing lay broken lavalin virtually cover harper bear firm snc shepell heavy sound above morneau consistently smart finally connected none stephen balanced blind guaranteed eye light usually wealthiest enormous barrie saudi hiding basically previous accord waste welfare fixed actual brampton closure middle fail killing liberals strike update failure scandal imposing black injection except yet reverse phoenix somewhat yes failing relatively definitely claim powerful fine sorts withdraw merit despite yukon breaking red raising mail forth scientists regular trans contrast committed supplement unlike cbc outside claims conservatives historic fit normal strikes owner tpp sign failed liberal critic lifted once monitor quick \n",
      "\n"
     ]
    }
   ],
   "source": [
    "num_words = 3000\n",
    "diff_list_lib_con = []\n",
    "\n",
    "sem_diff, common_vocab = diff_two_w2v_all_nei(con_1, lib_1, num_words)\n",
    "print(\"1971-\")\n",
    "most_diff_words(sem_diff, common_vocab, 100)\n",
    "diff_list_lib_con.append(sum(sem_diff)/len(sem_diff))\n",
    "\n",
    "sem_diff, common_vocab = diff_two_w2v_all_nei(con_2, lib_2, num_words)\n",
    "print(\"1976-\")\n",
    "most_diff_words(sem_diff, common_vocab, 100)\n",
    "diff_list_lib_con.append(sum(sem_diff)/len(sem_diff))\n",
    "\n",
    "sem_diff, common_vocab = diff_two_w2v_all_nei(con_3, lib_3, num_words)\n",
    "print(\"1981-\")\n",
    "most_diff_words(sem_diff, common_vocab, 100)\n",
    "diff_list_lib_con.append(sum(sem_diff)/len(sem_diff))\n",
    "\n",
    "sem_diff, common_vocab = diff_two_w2v_all_nei(con_4, lib_4, num_words)\n",
    "print(\"1986-\")\n",
    "most_diff_words(sem_diff, common_vocab, 100)\n",
    "diff_list_lib_con.append(sum(sem_diff)/len(sem_diff))\n",
    "\n",
    "sem_diff, common_vocab = diff_two_w2v_all_nei(con_5, lib_5, num_words)\n",
    "print(\"1991-\")\n",
    "most_diff_words(sem_diff, common_vocab, 100)\n",
    "diff_list_lib_con.append(sum(sem_diff)/len(sem_diff))\n",
    "\n",
    "sem_diff, common_vocab = diff_two_w2v_all_nei(con_6, lib_6, num_words)\n",
    "print(\"1996-\")\n",
    "most_diff_words(sem_diff, common_vocab, 100)\n",
    "diff_list_lib_con.append(sum(sem_diff)/len(sem_diff))\n",
    "\n",
    "sem_diff, common_vocab = diff_two_w2v_all_nei(con_7, lib_7, num_words)\n",
    "print(\"2001-\")\n",
    "most_diff_words(sem_diff, common_vocab, 100)\n",
    "diff_list_lib_con.append(sum(sem_diff)/len(sem_diff))\n",
    "\n",
    "sem_diff, common_vocab = diff_two_w2v_all_nei(con_8, lib_8, num_words)\n",
    "print(\"2006-\")\n",
    "most_diff_words(sem_diff, common_vocab, 100)\n",
    "diff_list_lib_con.append(sum(sem_diff)/len(sem_diff))\n",
    "\n",
    "sem_diff, common_vocab = diff_two_w2v_all_nei(con_9, lib_9, num_words)\n",
    "print(\"2011-\")\n",
    "most_diff_words(sem_diff, common_vocab, 100)\n",
    "diff_list_lib_con.append(sum(sem_diff)/len(sem_diff))\n",
    "\n",
    "sem_diff, common_vocab = diff_two_w2v_all_nei(con_10, lib_10, num_words)\n",
    "print(\"2016-\")\n",
    "most_diff_words(sem_diff, common_vocab, 100)\n",
    "diff_list_lib_con.append(sum(sem_diff)/len(sem_diff))"
   ]
  },
  {
   "cell_type": "code",
   "execution_count": 45,
   "metadata": {},
   "outputs": [
    {
     "data": {
      "image/png": "[encoded data removed]",
      "text/plain": [
       "<Figure size 432x288 with 1 Axes>"
      ]
     },
     "metadata": {
      "needs_background": "light"
     },
     "output_type": "display_data"
    }
   ],
   "source": [
    "years = [1988, 1993, 1998, 2003, 2008, 2013, 2018]\n",
    "    \n",
    "index = np.arange(len(years))\n",
    "plt.bar(index, diff_list_lib_con[3:])\n",
    "plt.xlabel('Years', fontsize=10)\n",
    "plt.ylabel('Average Cosine similarity b/w Liberal and Conservative', fontsize=10)\n",
    "plt.xticks(index, years, fontsize=10, rotation=30)\n",
    "plt.title('Cosine similarity between word2vec of \\nthe Conservertive Party and the Liberal Party\\n')\n",
    "axes = plt.gca()\n",
    "axes.set_ylim([0.5,1])\n",
    "plt.show()"
   ]
  },
  {
   "cell_type": "code",
   "execution_count": 34,
   "metadata": {},
   "outputs": [
    {
     "name": "stdout",
     "output_type": "stream",
     "text": [
      "1971-\n",
      "Top 100 most changing word: \n",
      "yes furthermore publicly presumably naturally finally apparently constant view ordinary constantly none olympic publicity whenever reviewing exact pressing misleading minority complete fact upper gentleman declare moreover definite meantime advises arises green alleged please favourable wise urgent carter starting readily arising namely preliminary usual intensive translation concrete hyacinthe white crtc attempted disaster whitby computer surcharge satisfaction trust oshawa disposition talks promise edward false fit outstanding deferred consequently light seconded somehow partly premise endeavour charge whether undoubtedly games assembly agenda nil opening except bearing knowles initiatives criticism accordingly deliberately pulp adjourned closer immediately precise textile however absence oral prime fairly notices british drawing \n",
      "\n",
      "1976-\n",
      "Top 100 most changing word: \n",
      "publicly knowles furthermore reaching deferred favourable exact beneficial undoubtedly consequently finally attempts meantime naturally nay white heads calls presumably compliance whenever parizeau constant yea please yes veterans except broadbent heritage notwithstanding broadview normally dispose deterrent ordinary re pleasure expired belt separation douglas closure accordingly view remaining planned failed nil pre notices charter disposition preparation urgent disagreement actively distributed presentation bilingualism latter apparently reserve sign note arises fairly edward immediately truly redistribution interrupt pressing dairy fail declare hopefully necessity duty existed particular confusion simcoe translation uncertainty reasonably refuse m valuable textile readily worst room oral round consultations fit permitted languages drawing constantly \n",
      "\n",
      "1981-\n",
      "Top 100 most changing word: \n",
      "presumably pray latter upper moreover yea remaining thanks yes accordingly furthermore deliberately bound humbly please finds usually british essentially consequently enumerated opening quebecers nil fail deferred despite usual meets administrator moves nay separated actively punishment madam participants meantime except correctional closer hardly attempts waste none eventually columbia ill merely payable yukon post alsands grievance normally fit scotia undersigned complete secret passing neither block frequently declare principal honourable votes corporate exact metric game once satisfactory apparent unlike whereas pressing naturally considering ending participating immediately patronage negotiated adjourned red recognizing freeze refuse democratic calls adjournment languages murder showing duty extension finally straight completely \n",
      "\n",
      "1986-\n",
      "Top 100 most changing word: \n",
      "upper kamloops usually gun presumably british columbia book smoke edward remaining publicly breton quick translation wise blind burnaby scotia cape merely basically essence removing prescott patronage glengarry nevertheless russell fit thanks nova operative prince keeping northwest essentially signal virtually doesn forth vis pre namely normally block permanent fairly cross hidden hardly don furthermore cable chinese seat harm fabric smoking liberal apart uncertainty vanier hopes white nickel actually re fishermen stress eventually blow confusion none handling once showing fast previously game saskatchewan except m precisely royal desperate democrats free universal breaking fine bell exactly profitable silent recognizing generous meant duty diversification reverse \n",
      "\n",
      "1991-\n",
      "Top 100 most changing word: \n",
      "separation overlap duplication consequently red straight constantly closer realistic preparing bear ending perfectly kamloops furthermore re agri balanced namely offers trust whenever meaning challenges breton harm usual ultimate francophones british veiy block light book overall target pearson concrete cape challenge generous none veto game cmhc gun repeatedly once mission separate witness grandparents entirely enjoyed nevertheless consistently actively notwithstanding ill distinct finally main qualified opening confidence free columbia advance telephone touch gdp renewed greenwood capable practical mark priority quebecois assisted cbc reaction allegations apparently lobbyists multiculturalism saint appointments underground confederation immigration newspapers tend refuse armed mmt double ultimately edward neither partnership targets \n",
      "\n",
      "1996-\n",
      "Top 100 most changing word: \n",
      "merely nonsense bouchard unlike apart extraordinary underground gun separatist separatists peterborough usual ignored finances confusion ours stress quick wellington minorities constantly norad indeed reject guelph accordingly serves reforms oath theme offers wherever quebeckers responding hopefully spite yes accomplished remarkable bear newfoundland register divorce fast forth failed duplication renewal excellent ordinary while francophones pq fit closure distinct proof tier waterloo scholarship deserves throne extending basically near strikes focused none nevertheless quebecers item allegations tough ignore false intervene attack attempts minority floor lies consistently reviewing milosevic prepare fail precisely track showing credibility closing falls renewed turning lawyers relate solid round confederation deleting refuse \n",
      "\n",
      "2001-\n",
      "Top 100 most changing word: \n",
      "definitely shape fast gun embryonic unlike showing failed imbalance stem constantly despite normally broken quebeckers cida outcome update closing chairs consistently ultimate lawyers vis challenged embryos ill namely actually fail grant apparently bottom privatization while falls outside perfectly corruption except cois haiti gentleman cell entire proportional informed remaining democrats unprecedented destroy bear moreover task inappropriate opening advanced throne worst finally neither nevertheless ending whatsoever wars none remains participating failure essentially theme papers medicare allegations challenge relation deep renewal saddam et main furthermore passing gomery strike outstanding parental preparedness hussein cells extraordinary quebecois track formal believed kidney star endangered basically holding supplementary \n",
      "\n",
      "2006-\n",
      "Top 100 most changing word: \n",
      "bear colombian badly chapter definitely punitive hst corner liberal panama democrats opening fast jordan ending asbestos counter consistently british except inherited incredibly trusts extraordinary warning exact closure precisely columbia indeed burnaby kelowna track silent westminster notwithstanding solid front passing technical bottom smart ndp yes ultimately tar shipbuilding lay cadman cowichan match virtually progressive wing forth kept mississauga wanting nanaimo gain obviously basically challenge free minority advance corruption eventually accordingly equally course quick photo desperate signing voter books strike sake bar usual onto fail main examine apparently haiti unlike straight gun voters above eliminating floor consequence firm furthermore cois continued diligence seats \n",
      "\n",
      "2011-\n",
      "Top 100 most changing word: \n",
      "inside above nevertheless white navigable degree suspect gatineau thus ultimately exact virtually trials postal zero essence merit whereas alone definitely fairly ndp strikes once extraordinary lockout meaning balanced bear forth appalling proactive liberal file notes eyes gantic vast please considering injection accordingly red opening mail supervised quick signing unpaid immigration books whole moreover possibly universal munitions via jack tape asbestos practical normal democrats games missing westminster chr harbour evasion quebeckers equally edward laval indeed greatly tien t supplement accord except online cross incredibly plus voter lines sign shocking registry columbia british extreme deep houses prairie cn main legislators detail horse since \n",
      "\n",
      "2016-\n",
      "Top 100 most changing word: \n",
      "ceos virtually missed critically definitely breaking essex unlike closing inside broken ordinary delivery class consistently expectations client stock universal democrats firm ndp drummond fine update above light actively hand loophole none unprecedented immediately refusing connected demonstrated whole rich possibly mail middle failing ceo enhancement precisely considering fast sign bilateral surplus aggressive fantastic absolute yet compassionate forth opening tremendous critic feedback historic fail sound guaranteed carriers despite push smart niagara census attacks strikes responses quebeckers title coalition signing fashion except closely lines vast northwest intend powerful failed declare failure extremely usually armed degree re launch once wealthiest g prepare pharmacare immigration wishes \n",
      "\n"
     ]
    }
   ],
   "source": [
    "num_words = 3000\n",
    "diff_list_lib_dem = []\n",
    "\n",
    "sem_diff, common_vocab = diff_two_w2v_all_nei(dem_1, lib_1, num_words)\n",
    "print(\"1971-\")\n",
    "most_diff_words(sem_diff, common_vocab, 100)\n",
    "diff_list_lib_dem.append(sum(sem_diff)/len(sem_diff))\n",
    "\n",
    "sem_diff, common_vocab = diff_two_w2v_all_nei(dem_2, lib_2, num_words)\n",
    "print(\"1976-\")\n",
    "most_diff_words(sem_diff, common_vocab, 100)\n",
    "diff_list_lib_dem.append(sum(sem_diff)/len(sem_diff))\n",
    "\n",
    "sem_diff, common_vocab = diff_two_w2v_all_nei(dem_3, lib_3, num_words)\n",
    "print(\"1981-\")\n",
    "most_diff_words(sem_diff, common_vocab, 100)\n",
    "diff_list_lib_dem.append(sum(sem_diff)/len(sem_diff))\n",
    "\n",
    "sem_diff, common_vocab = diff_two_w2v_all_nei(dem_4, lib_4, num_words)\n",
    "print(\"1986-\")\n",
    "most_diff_words(sem_diff, common_vocab, 100)\n",
    "diff_list_lib_dem.append(sum(sem_diff)/len(sem_diff))\n",
    "\n",
    "sem_diff, common_vocab = diff_two_w2v_all_nei(dem_5, lib_5, num_words)\n",
    "print(\"1991-\")\n",
    "most_diff_words(sem_diff, common_vocab, 100)\n",
    "diff_list_lib_dem.append(sum(sem_diff)/len(sem_diff))\n",
    "\n",
    "sem_diff, common_vocab = diff_two_w2v_all_nei(dem_6, lib_6, num_words)\n",
    "print(\"1996-\")\n",
    "most_diff_words(sem_diff, common_vocab, 100)\n",
    "diff_list_lib_dem.append(sum(sem_diff)/len(sem_diff))\n",
    "\n",
    "sem_diff, common_vocab = diff_two_w2v_all_nei(dem_7, lib_7, num_words)\n",
    "print(\"2001-\")\n",
    "most_diff_words(sem_diff, common_vocab, 100)\n",
    "diff_list_lib_dem.append(sum(sem_diff)/len(sem_diff))\n",
    "\n",
    "sem_diff, common_vocab = diff_two_w2v_all_nei(dem_8, lib_8, num_words)\n",
    "print(\"2006-\")\n",
    "most_diff_words(sem_diff, common_vocab, 100)\n",
    "diff_list_lib_dem.append(sum(sem_diff)/len(sem_diff))\n",
    "\n",
    "sem_diff, common_vocab = diff_two_w2v_all_nei(dem_9, lib_9, num_words)\n",
    "print(\"2011-\")\n",
    "most_diff_words(sem_diff, common_vocab, 100)\n",
    "diff_list_lib_dem.append(sum(sem_diff)/len(sem_diff))\n",
    "\n",
    "sem_diff, common_vocab = diff_two_w2v_all_nei(dem_10, lib_10, num_words)\n",
    "print(\"2016-\")\n",
    "most_diff_words(sem_diff, common_vocab, 100)\n",
    "diff_list_lib_dem.append(sum(sem_diff)/len(sem_diff))"
   ]
  },
  {
   "cell_type": "code",
   "execution_count": 44,
   "metadata": {},
   "outputs": [
    {
     "data": {
      "image/png": "[encoded data removed]",
      "text/plain": [
       "<Figure size 432x288 with 1 Axes>"
      ]
     },
     "metadata": {
      "needs_background": "light"
     },
     "output_type": "display_data"
    }
   ],
   "source": [
    "years = [1988,1993, 1998, 2003, 2008, 2013, 2018]\n",
    "    \n",
    "index = np.arange(len(years))\n",
    "plt.bar(index, diff_list_lib_dem[3:])\n",
    "plt.xlabel('Years', fontsize=10)\n",
    "plt.ylabel('Average Cosine similarity b/w Liberal and NDP', fontsize=10)\n",
    "plt.xticks(index, years, fontsize=10, rotation=30)\n",
    "#plt.title('Cosine similarity between word2vec of Conservertive Party and Liberal Party')\n",
    "axes = plt.gca()\n",
    "axes.set_ylim([0.5,1])\n",
    "plt.show()"
   ]
  },
  {
   "cell_type": "code",
   "execution_count": 37,
   "metadata": {},
   "outputs": [],
   "source": [
    "years_and_ndp_seats = [(1979, 26), (1980, 32), (1984, 30), (1988, 43), \n",
    "         (1993, 9), (1997, 21), (2000, 13), (2004, 19),\n",
    "        (2006, 29), (2008, 37), (2011, 103), (2015, 44),\n",
    "        (2019, 24)]"
   ]
  },
  {
   "cell_type": "code",
   "execution_count": 39,
   "metadata": {
    "scrolled": true
   },
   "outputs": [
    {
     "data": {
      "image/png": "[encoded data removed]",
      "text/plain": [
       "<Figure size 432x288 with 1 Axes>"
      ]
     },
     "metadata": {
      "needs_background": "light"
     },
     "output_type": "display_data"
    }
   ],
   "source": [
    "years = [1988, 1993, 1997, 2000, 2004,\n",
    "        2006, 2008, 2011, 2015, 2019]\n",
    "ndp_seats = [43, 9, 21, 13, 19, 29, 37, 103, 44, 24]\n",
    "    \n",
    "index = np.arange(len(years))\n",
    "plt.bar(index, ndp_seats)\n",
    "plt.xlabel('Years', fontsize=10)\n",
    "plt.ylabel('Seat', fontsize=10)\n",
    "plt.xticks(index, years, fontsize=10, rotation=30)\n",
    "plt.title('Seats of NDP')\n",
    "axes = plt.gca()\n",
    "plt.show()"
   ]
  },
  {
   "cell_type": "code",
   "execution_count": 28,
   "metadata": {},
   "outputs": [],
   "source": [
    "years = [1979, 1980, 1984, 1988, \n",
    "         1993, 1997, 2000, 2004,\n",
    "        2006, 2008, 2011, 2015, 2019]    \n",
    "\n",
    "dem_model = []\n",
    "lib_model = []\n",
    "\n",
    "for i in range(len(years)-1):\n",
    "    dem_model.append(Word2Vec.load('300d_20win_ele\\\\300d_20winlipad'+str(years[i])+'-'+str(years[i+1])+'dem.bin'))\n",
    "    lib_model.append(Word2Vec.load('300d_20win_ele\\\\300d_20winlipad'+str(years[i])+'-'+str(years[i+1])+'lib.bin'))"
   ]
  },
  {
   "cell_type": "code",
   "execution_count": 30,
   "metadata": {},
   "outputs": [],
   "source": [
    "num_words = 3000\n",
    "diff_list_lib_dem = []\n",
    "\n",
    "for d, l in zip(dem_model, lib_model):\n",
    "    sem_diff, common_vocab = diff_two_w2v_all_nei(d, l, num_words)\n",
    "    diff_list_lib_dem.append(sum(sem_diff)/len(sem_diff))"
   ]
  },
  {
   "cell_type": "code",
   "execution_count": 36,
   "metadata": {},
   "outputs": [
    {
     "data": {
      "image/png": "[encoded data removed]",
      "text/plain": [
       "<Figure size 432x288 with 1 Axes>"
      ]
     },
     "metadata": {
      "needs_background": "light"
     },
     "output_type": "display_data"
    }
   ],
   "source": [
    "index = np.arange(len(years)-1)\n",
    "plt.bar(index, diff_list_lib_dem)\n",
    "plt.xlabel('Years', fontsize=10)\n",
    "plt.ylabel('Cosine similarity', fontsize=10)\n",
    "plt.xticks(index, years, fontsize=10, rotation=30)\n",
    "#plt.title('Cosine similarity between word2vec of Conservertive Party and Liberal Party')\n",
    "axes = plt.gca()\n",
    "axes.set_ylim([0.3,0.9])\n",
    "plt.show()"
   ]
  },
  {
   "cell_type": "code",
   "execution_count": 40,
   "metadata": {},
   "outputs": [
    {
     "name": "stdout",
     "output_type": "stream",
     "text": [
      "1971-\n",
      "Top 100 most changing word: \n",
      "sifton major venture lion hut x manpower ot morrow patriotic franchise tbe publicly nan controls distinctly splendid reciprocity oliver promoters ease supplement patronage lias beg imperial depth pledge bounty usual edward light canals intercolonial inside georgian energy ministry issue corporate mother task bon cold scarcely concept marine expend dredge soldier liquor peculiar guaranteed standing upper autonomy commanding protective security preferential holders welfare inland trunk affairs housing u maclean redistribution opening sample write wilfrid pensioners carriers concern hudson lay admiralty her laurier studies lie piece terms distinct bargain planning shell veterans external settlers foundation owing arthur apparently wharfs custom fraud corps militia \n",
      "\n",
      "1976-\n",
      "Top 100 most changing word: \n",
      "intimated sector venture redistribution morrow manion phase definitely reciprocity wholly evidently restraint her controls electors desires inasmuch trustees fancy militia imperial upper australian furthermore woollen anti duncan sixteen exchequer distress today patronage task sheep altogether lay accordingly wool lapointe league rising distinctly dunning empire peculiar manpower endeavoured ex ninety corporate mere mackenzie presently relative bennett bankruptcy gun strategy yarmouth soldier desired break naturalization values hall post welfare creditors single concerns dominions henry settlers distinct wisdom naturally communications odd soldiers terms appropriation treasury dumping consequently rightly returned exact satisfaction positive cooperation madam light progressives stamp cooperative towards edward returning dot arises afforded \n",
      "\n",
      "1981-\n",
      "Top 100 most changing word: \n",
      "sterling upper crow abbott restraint succession trans altogether wartime redistribution banking funding deficiency essex rendered pray her edward twillingate address reconstruction biggar blind intelligence pipe dispatch munitions combines ministry oral discharged pact usual imperial civilian laurent venture task stamps post striking ordinary bonavista soldier accordingly assistant middle communism russia programme gardiner discharge dominion assiniboia petitioners dot bond publicity dairy concerns furthermore allocation appropriation wars round native bound associated latter punishment lawrence film youth undoubtedly bureau operative postmaster ascertain she creation mere content force maritime korea protest howe pressing churchill gold fine welfare wise sufficiently apparently fully remaining arthur unusual carries madam \n",
      "\n",
      "1986-\n",
      "Top 100 most changing word: \n",
      "digest mulroney unification redistribution nam viet blind privatization essex metric undoubtedly white green bearing operative pipe view olympic naturally postmaster drawing edward privy medicine centennial seconded design twillingate abandonment refugee via conversion nova agenda j simcoe ad vis charter plebiscite jack ordinary dot restraint quick controls index british bonavista scotia pipeline post anti definite breton fine accord gentlemen petitioners pearson wise logical secondary translation orders fit deliberately red re dairy knowles cross gun presumably turner sharp kingdom maple dominion test burnaby basically veterans commerce urban round works waste th games gordon furthermore aboriginal task dree patent fairly civil neither merely hall \n",
      "\n",
      "1991-\n",
      "Top 100 most changing word: \n",
      "lalonde naturally nay canadair metric straight ending reformers yea furthermore nisga breton wise wilson perfectly unborn nays edward consequently red realistic acid pearson ill punishment socialist closer kamloops challenges vanier namely gun trust maceachen block game meaning cape apparently usual relief deliberately balanced cross constantly missing rain offers nos adjournment crow abortion hardly priority publicly advance check accordingly mark alliance quick seconded re m bond divorce sports pensioners throne mines ethics scotia notes de free via green moves interrupt principal strikes armed formula closure petro miss space patronage operative apart marriage notwithstanding nato oral mississauga pray finally external stabilization corporate sir \n",
      "\n",
      "1996-\n",
      "Top 100 most changing word: \n",
      "cois definitely abiding resuming nay gun incredibly please registry harper green grey sponsorship softwood ending tape unlike hate deferred uniform constantly strongest universal defending quebeckers stimulus usual ridiculous misleading kyoto missing ukraine considerable carbon extraordinary splitting lumber quick qu keeping closer throne sands re yea publicly palliative cfia bear dairy accordingly substantive greatly robust offers amazing hopefully remarkable sadly voter corruption extending attorney greenhouse bureaucrats killing trans tough closing solid delivering apparently inside fast declare near endangered keeps gateway waste stem irresponsible excellent awareness terrorists library shameful main fundraising nor host prisoners false ill pipelines lobbying sending repeatedly lowering refugee latest \n",
      "\n",
      "2001-\n",
      "Top 100 most changing word: \n",
      "gun definitely stem cadman unlike solid blind embryonic fast conservative sake cell falls consistently sadly hardly traditional chuck politically forever conditional hate cida registry unfortunately wars friendly wind sorts constantly shape lobby compassionate smoke green deliberately cruelty opening embryos grant weak ill ethical basically raising medicine ridiculous ranchers animal refugee extreme broken outside merely informed straight reaction sentences extraordinary landowners differently repeat apart endangered evil census while attempting pornography lay immigration challenged cells hidden inside post privatization quick passing front ad alone re usually compensate kings alliance space white advertising forces corrupt entire m marijuana hussein once abiding shares firearms piece \n",
      "\n",
      "2006-\n",
      "Top 100 most changing word: \n",
      "wing colombian jordan hst imbalance coalition failing closure sellout digital corner indeed counter uniform unlike fit universal tenured democrats asbestos surely consistently cois ndp panama burnaby showing challenge delivering ineffective desperately title exact vis except closing registry sponsorship update gap bear seal freedom secret whereas tackling straight returns progressive shipbuilding malpeque challenging yet nova gun band extraordinary barley shift whatsoever killing breaking ordinary pensioners extending incredibly please afghan abiding resolved complete basically cbc census earthquake demands scotia british ending opening sharing fine qu federalism tar red nothing languages constantly actually h faster acting khadr critic failure onto precisely corporate net track \n",
      "\n",
      "2011-\n",
      "Top 100 most changing word: \n",
      "universal ndp above nevertheless bear failing insite ineffective missing reverse class strongest democrats please unprecedented coalition ending reckless closing carbon westminster injection failure gulf broken virtually gatineau asbestos critic yes conservative neither apparently closure latest green normal honduras census track grey mike qu navigable returns gun conservatives eventually contrast indeed failed surely red delay clean bec opening guaranteed exact generally fit marijuana finally decent essentially actively columbia shut notion fighter postal killing opposition deleting british burnaby zero yet mississauga base net light tape gap cuts regularly constantly petitioners timmins gantic refusing fisheries relief nor negotiating leaving re worst basically harbour precisely \n",
      "\n",
      "2016-\n",
      "Top 100 most changing word: \n",
      "privatization tape universal neutral fit red failures balanced healing closing equity grab quebeckers waste inside albertans abiding eye registry harper strikes pharmacare constantly terrorists ceos returning absolute balance conservative cover gun strike mail legacy drummond closer fly sands surplus progressive danger fixed post saudi delivery material arabia stephen sensitive referendum faith versus jets investor sound injection secret beer payroll super media track unlike inadequate t precarious front hyacinthe forth medicine grandchildren passenger balancing suddenly british definitely ultimately missed loophole heavy except option democrats delivering anti legalization atlantic close budgets welfare gateway elsewhere owners title fighter ballot barrie sports normal class recession \n",
      "\n"
     ]
    }
   ],
   "source": [
    "num_words = 3000\n",
    "diff_list_con_dem = []\n",
    "\n",
    "sem_diff, common_vocab = diff_two_w2v_all_nei(dem_1, con_1, num_words)\n",
    "print(\"1971-\")\n",
    "most_diff_words(sem_diff, common_vocab, 100)\n",
    "diff_list_con_dem.append(sum(sem_diff)/len(sem_diff))\n",
    "\n",
    "sem_diff, common_vocab = diff_two_w2v_all_nei(dem_2, con_2, num_words)\n",
    "print(\"1976-\")\n",
    "most_diff_words(sem_diff, common_vocab, 100)\n",
    "diff_list_con_dem.append(sum(sem_diff)/len(sem_diff))\n",
    "\n",
    "sem_diff, common_vocab = diff_two_w2v_all_nei(dem_3, con_3, num_words)\n",
    "print(\"1981-\")\n",
    "most_diff_words(sem_diff, common_vocab, 100)\n",
    "diff_list_con_dem.append(sum(sem_diff)/len(sem_diff))\n",
    "\n",
    "sem_diff, common_vocab = diff_two_w2v_all_nei(dem_4, con_4, num_words)\n",
    "print(\"1986-\")\n",
    "most_diff_words(sem_diff, common_vocab, 100)\n",
    "diff_list_con_dem.append(sum(sem_diff)/len(sem_diff))\n",
    "\n",
    "sem_diff, common_vocab = diff_two_w2v_all_nei(dem_5, con_5, num_words)\n",
    "print(\"1991-\")\n",
    "most_diff_words(sem_diff, common_vocab, 100)\n",
    "diff_list_con_dem.append(sum(sem_diff)/len(sem_diff))\n",
    "\n",
    "sem_diff, common_vocab = diff_two_w2v_all_nei(dem_6, con_6, num_words)\n",
    "print(\"1996-\")\n",
    "most_diff_words(sem_diff, common_vocab, 100)\n",
    "diff_list_con_dem.append(sum(sem_diff)/len(sem_diff))\n",
    "\n",
    "sem_diff, common_vocab = diff_two_w2v_all_nei(dem_7, con_7, num_words)\n",
    "print(\"2001-\")\n",
    "most_diff_words(sem_diff, common_vocab, 100)\n",
    "diff_list_con_dem.append(sum(sem_diff)/len(sem_diff))\n",
    "\n",
    "sem_diff, common_vocab = diff_two_w2v_all_nei(dem_8, con_8, num_words)\n",
    "print(\"2006-\")\n",
    "most_diff_words(sem_diff, common_vocab, 100)\n",
    "diff_list_con_dem.append(sum(sem_diff)/len(sem_diff))\n",
    "\n",
    "sem_diff, common_vocab = diff_two_w2v_all_nei(dem_9, con_9, num_words)\n",
    "print(\"2011-\")\n",
    "most_diff_words(sem_diff, common_vocab, 100)\n",
    "diff_list_con_dem.append(sum(sem_diff)/len(sem_diff))\n",
    "\n",
    "sem_diff, common_vocab = diff_two_w2v_all_nei(dem_10, con_10, num_words)\n",
    "print(\"2016-\")\n",
    "most_diff_words(sem_diff, common_vocab, 100)\n",
    "diff_list_con_dem.append(sum(sem_diff)/len(sem_diff))"
   ]
  },
  {
   "cell_type": "code",
   "execution_count": 51,
   "metadata": {},
   "outputs": [
    {
     "data": {
      "image/png": "[encoded data removed]",
      "text/plain": [
       "<Figure size 432x288 with 1 Axes>"
      ]
     },
     "metadata": {
      "needs_background": "light"
     },
     "output_type": "display_data"
    }
   ],
   "source": [
    "years = [1988, 1993, 1998, 2003, 2008, 2013, 2018]\n",
    "    \n",
    "index = np.arange(len(years))\n",
    "plt.bar(index, diff_list_con_dem[3:])\n",
    "plt.xlabel('Years', fontsize=10)\n",
    "plt.ylabel('Average Cosine similarity b/w Conservative and NDP', fontsize=10)\n",
    "plt.xticks(index, years, fontsize=10, rotation=30)\n",
    "plt.title('Cosine similarity between word2vec of Conservertive Party \\nand NDP (window size: 20)')\n",
    "axes = plt.gca()\n",
    "axes.set_ylim([0.5,1])\n",
    "plt.show()"
   ]
  },
  {
   "cell_type": "markdown",
   "metadata": {},
   "source": [
    "# Experiment with Window Size of 5"
   ]
  },
  {
   "cell_type": "code",
   "execution_count": 53,
   "metadata": {},
   "outputs": [],
   "source": [
    "year = \"1971-1975\"\n",
    "\n",
    "dem_1 = Word2Vec.load('300d_20win_5y\\\\300d_20winlipad'+year+'dem.bin')\n",
    "con_1 = Word2Vec.load('300d_20win_5y\\\\300d_20winlipad'+year+'con.bin')\n",
    "lib_1 = Word2Vec.load('300d_20win_5y\\\\300d_20winlipad'+year+'lib.bin')\n",
    "\n",
    "year = \"1976-1980\"\n",
    "\n",
    "dem_2 = Word2Vec.load('300d_20win_5y\\\\300d_20winlipad'+year+'dem.bin')\n",
    "con_2 = Word2Vec.load('300d_20win_5y\\\\300d_20winlipad'+year+'con.bin')\n",
    "lib_2 = Word2Vec.load('300d_20win_5y\\\\300d_20winlipad'+year+'lib.bin')\n",
    "\n",
    "year = \"1981-1985\"\n",
    "\n",
    "dem_3 = Word2Vec.load('300d_20win_5y\\\\300d_20winlipad'+year+'dem.bin')\n",
    "con_3 = Word2Vec.load('300d_20win_5y\\\\300d_20winlipad'+year+'con.bin')\n",
    "lib_3 = Word2Vec.load('300d_20win_5y\\\\300d_20winlipad'+year+'lib.bin')\n",
    "\n",
    "year = \"1986-1990\"\n",
    "\n",
    "dem_4 = Word2Vec.load('300d_20win_5y\\\\300d_20winlipad'+year+'dem.bin')\n",
    "con_4 = Word2Vec.load('300d_20win_5y\\\\300d_20winlipad'+year+'con.bin')\n",
    "lib_4 = Word2Vec.load('300d_20win_5y\\\\300d_20winlipad'+year+'lib.bin')\n",
    "\n",
    "year = \"1991-1995\"\n",
    "\n",
    "dem_5 = Word2Vec.load('300d_20win_5y\\\\300d_20winlipad'+year+'dem.bin')\n",
    "con_5 = Word2Vec.load('300d_20win_5y\\\\300d_20winlipad'+year+'con.bin')\n",
    "lib_5 = Word2Vec.load('300d_20win_5y\\\\300d_20winlipad'+year+'lib.bin')\n",
    "\n",
    "year = \"1996-2000\"\n",
    "\n",
    "dem_6 = Word2Vec.load('300d_20win_5y\\\\300d_20winlipad'+year+'dem.bin')\n",
    "con_6 = Word2Vec.load('300d_20win_5y\\\\300d_20winlipad'+year+'con.bin')\n",
    "lib_6 = Word2Vec.load('300d_20win_5y\\\\300d_20winlipad'+year+'lib.bin')\n",
    "\n",
    "year = \"2001-2005\"\n",
    "\n",
    "dem_7 = Word2Vec.load('300d_20win_5y\\\\300d_20winlipad'+year+'dem.bin')\n",
    "con_7 = Word2Vec.load('300d_20win_5y\\\\300d_20winlipad'+year+'con.bin')\n",
    "lib_7 = Word2Vec.load('300d_20win_5y\\\\300d_20winlipad'+year+'lib.bin')\n",
    "\n",
    "year = \"2006-2010\"\n",
    "\n",
    "dem_8 = Word2Vec.load('300d_20win_5y\\\\300d_20winlipad'+year+'dem.bin')\n",
    "con_8 = Word2Vec.load('300d_20win_5y\\\\300d_20winlipad'+year+'con.bin')\n",
    "lib_8 = Word2Vec.load('300d_20win_5y\\\\300d_20winlipad'+year+'lib.bin')\n",
    "\n",
    "year = \"2011-2015\"\n",
    "\n",
    "dem_9 = Word2Vec.load('300d_20win_5y\\\\300d_20winlipad'+year+'dem.bin')\n",
    "con_9 = Word2Vec.load('300d_20win_5y\\\\300d_20winlipad'+year+'con.bin')\n",
    "lib_9 = Word2Vec.load('300d_20win_5y\\\\300d_20winlipad'+year+'lib.bin')\n",
    "\n",
    "year = \"2016-2019\"\n",
    "\n",
    "dem_10 = Word2Vec.load('300d_20win_5y\\\\300d_20winlipad'+year+'dem.bin')\n",
    "con_10 = Word2Vec.load('300d_20win_5y\\\\300d_20winlipad'+year+'con.bin')\n",
    "lib_10 = Word2Vec.load('300d_20win_5y\\\\300d_20winlipad'+year+'lib.bin')"
   ]
  },
  {
   "cell_type": "code",
   "execution_count": 47,
   "metadata": {},
   "outputs": [
    {
     "name": "stdout",
     "output_type": "stream",
     "text": [
      "1971-\n",
      "Top 100 most changing word: \n",
      "presumably publicly naturally olympic publicity upper remaining escalation olympics straight hopes fundy mere readily games legitimate apparently ad postmaster knowles favourable whatsoever closure football exact concrete partly kingdom disputes postal operative strikes promise gold economics edward content clarification coin contingency fighting principal exchange cross vis breton spirit british cida hamilton ill consensus improvements minor assumed white outstanding trust relative redistribution nova neither holding frequently columbia title initiatives band fairly proof hopefully minority personally drawing fiscal mines orderly truly bid deliberately sign bearing false bottom lalonde apart surcharge hardly none fishermen allotted once satisfactory universal crowfoot treasury reader fairness scotia complete re \n",
      "\n",
      "1976-\n",
      "Top 100 most changing word: \n",
      "naturally knowles crosbie publicly strikes gatt presumably favourable furthermore beneficial x postmaster ad metric exact heritage hopes compliance normally reaching mines refuses comptroller notwithstanding assembly fourth fit reader significance deterrent permitted conversion clean douglas pre charter olympic fitness credibility wise edward hopefully cullen bureaucratic stevens ill f digest amateur precise simcoe extending veterans innovation relative concessions round vi bell commit lie neither advanced shared attempts re ridiculous suddenly bottom mismanagement prison scotia auditor horner g occurred frequently realized defence drawing sport unusual partners post games forum restore adjournment attached cuba british confusion cida irresponsible violent vis apart accepting proven truly fully \n",
      "\n",
      "1981-\n",
      "Top 100 most changing word: \n",
      "naturally breaks benjamin bearing upper punishment metric accordingly none ill british post pool crosbie furthermore merely payable deliberately wilson fairly bound principal corporate usual sports remaining nova moves neither sign quick fine presumably relative declare chartered renewal pray petrofina dominion kingdom normally progressive fira once via fit unlike essentially lottery edward burnaby mazankowski wise freeze amateur apart treasury except edc conversion ridiculous whelan columbia havilland force perfectly waste operative breaking alsands bureaucrats possibly historical branch scotia sufficiency block sport pre languages fully game democratic ad hardly humbly nep parent thanks negotiated notes imperial opening unnecessary usually theory backs britain medicare p \n",
      "\n",
      "1986-\n",
      "Top 100 most changing word: \n",
      "naturally upper deferred resuming yea kamloops ending separately prescription closure constantly stress challenge remaining consequently nay please vis presumably apparently shuswap quick none wise reject gun meantime keeping adjournment supplementary nevertheless spadina unfortunately oshawa listed fail track moves gentleman burnaby preamble white british shift consequence breton scotia participating basically pray oral fairly ndp thunder translation block fine risen unlike humbly once essex cape perfect auto fit democratic operative signal opposition accordingly russell columbia edward spite prescott stronger yorkton coalition medicare finally thanks declare free windsor labrador critic alliance green expired routine re patent sorts socialists nova round daily opening confident terminated \n",
      "\n",
      "1991-\n",
      "Top 100 most changing word: \n",
      "counsellor reformers duplication separation ending straight closer moves meaning realistic apparently quo challenges balanced perfectly fails demanding oral furthermore nay usual ethics yea re nays lobbyists offers quick patronage gold light strikes split notwithstanding compromise above red bureaucrats finally consistently progressive veiy tend game breton gun allegations incredible block ultimately pearson priority fit kamloops keeping pray nevertheless m opening promise grandparents bear renewed target reverse lies clarification discipline free forever book appointments main trust enjoyed mp corporate immigration publicly candidates cape participating multinational integrity practical post zero actively cbc while outcome acting seats columbia attack accordingly overall apart gdp entirely genuine \n",
      "\n",
      "1996-\n",
      "Top 100 most changing word: \n",
      "continually fresh closer merely nonsense constantly olson upper hardly quo apart gun clifford definitely okanagan separatists quick compromise lots nevertheless wanting grassroots hepatitis likes politically substantive abiding killers spin none missing track relative anyway tier tries voters conditional raises columbians lies hopefully spends bear wild shape ridiculous ad brain drain weak whenever fit please forever patronage guys publicly except sounds unlike ignoring ministerial deserves medicine deleting badly attempting prisoners usual deliberately tough fast mistakes repeatedly usually murderers register bracket near keeping reforms strikes approve sadly safer item strange bunch immigrants philosophy stuff cape split distinct yes basically integrity eye divorce quebecers \n",
      "\n",
      "2001-\n",
      "Top 100 most changing word: \n",
      "gun definitely stem cadman unlike solid blind embryonic fast conservative sake cell falls consistently sadly hardly traditional chuck politically forever conditional hate cida registry unfortunately wars friendly wind sorts constantly shape lobby compassionate smoke green deliberately cruelty opening embryos grant weak ill ethical basically raising medicine ridiculous ranchers animal refugee extreme broken outside merely informed straight reaction sentences extraordinary landowners differently repeat apart endangered evil census while attempting pornography lay immigration challenged cells hidden inside post privatization quick passing front ad alone re usually compensate kings alliance space white advertising forces corrupt entire m marijuana hussein once abiding shares firearms piece \n",
      "\n",
      "2006-\n",
      "Top 100 most changing word: \n",
      "wing colombian jordan hst imbalance coalition failing closure sellout digital corner indeed counter uniform unlike fit universal tenured democrats asbestos surely consistently cois ndp panama burnaby showing challenge delivering ineffective desperately title exact vis except closing registry sponsorship update gap bear seal freedom secret whereas tackling straight returns progressive shipbuilding malpeque challenging yet nova gun band extraordinary barley shift whatsoever killing breaking ordinary pensioners extending incredibly please afghan abiding resolved complete basically cbc census earthquake demands scotia british ending opening sharing fine qu federalism tar red nothing languages constantly actually h faster acting khadr critic failure onto precisely corporate net track \n",
      "\n",
      "2011-\n",
      "Top 100 most changing word: \n",
      "universal ndp above nevertheless bear failing insite ineffective missing reverse class strongest democrats please unprecedented coalition ending reckless closing carbon westminster injection failure gulf broken virtually gatineau asbestos critic yes conservative neither apparently closure latest green normal honduras census track grey mike qu navigable returns gun conservatives eventually contrast indeed failed surely red delay clean bec opening guaranteed exact generally fit marijuana finally decent essentially actively columbia shut notion fighter postal killing opposition deleting british burnaby zero yet mississauga base net light tape gap cuts regularly constantly petitioners timmins gantic refusing fisheries relief nor negotiating leaving re worst basically harbour precisely \n",
      "\n",
      "2016-\n",
      "Top 100 most changing word: \n",
      "privatization tape universal neutral fit red failures balanced healing closing equity grab quebeckers waste inside albertans abiding eye registry harper strikes pharmacare constantly terrorists ceos returning absolute balance conservative cover gun strike mail legacy drummond closer fly sands surplus progressive danger fixed post saudi delivery material arabia stephen sensitive referendum faith versus jets investor sound injection secret beer payroll super media track unlike inadequate t precarious front hyacinthe forth medicine grandchildren passenger balancing suddenly british definitely ultimately missed loophole heavy except option democrats delivering anti legalization atlantic close budgets welfare gateway elsewhere owners title fighter ballot barrie sports normal class recession \n",
      "\n"
     ]
    }
   ],
   "source": [
    "num_words = 3000\n",
    "diff_list_con_dem = []\n",
    "\n",
    "sem_diff, common_vocab = diff_two_w2v_all_nei(dem_1, con_1, num_words)\n",
    "print(\"1971-\")\n",
    "most_diff_words(sem_diff, common_vocab, 100)\n",
    "diff_list_con_dem.append(sum(sem_diff)/len(sem_diff))\n",
    "\n",
    "sem_diff, common_vocab = diff_two_w2v_all_nei(dem_2, con_2, num_words)\n",
    "print(\"1976-\")\n",
    "most_diff_words(sem_diff, common_vocab, 100)\n",
    "diff_list_con_dem.append(sum(sem_diff)/len(sem_diff))\n",
    "\n",
    "sem_diff, common_vocab = diff_two_w2v_all_nei(dem_3, con_3, num_words)\n",
    "print(\"1981-\")\n",
    "most_diff_words(sem_diff, common_vocab, 100)\n",
    "diff_list_con_dem.append(sum(sem_diff)/len(sem_diff))\n",
    "\n",
    "sem_diff, common_vocab = diff_two_w2v_all_nei(dem_4, con_4, num_words)\n",
    "print(\"1986-\")\n",
    "most_diff_words(sem_diff, common_vocab, 100)\n",
    "diff_list_con_dem.append(sum(sem_diff)/len(sem_diff))\n",
    "\n",
    "sem_diff, common_vocab = diff_two_w2v_all_nei(dem_5, con_5, num_words)\n",
    "print(\"1991-\")\n",
    "most_diff_words(sem_diff, common_vocab, 100)\n",
    "diff_list_con_dem.append(sum(sem_diff)/len(sem_diff))\n",
    "\n",
    "sem_diff, common_vocab = diff_two_w2v_all_nei(dem_6, con_6, num_words)\n",
    "print(\"1996-\")\n",
    "most_diff_words(sem_diff, common_vocab, 100)\n",
    "diff_list_con_dem.append(sum(sem_diff)/len(sem_diff))\n",
    "\n",
    "sem_diff, common_vocab = diff_two_w2v_all_nei(dem_7, con_7, num_words)\n",
    "print(\"2001-\")\n",
    "most_diff_words(sem_diff, common_vocab, 100)\n",
    "diff_list_con_dem.append(sum(sem_diff)/len(sem_diff))\n",
    "\n",
    "sem_diff, common_vocab = diff_two_w2v_all_nei(dem_8, con_8, num_words)\n",
    "print(\"2006-\")\n",
    "most_diff_words(sem_diff, common_vocab, 100)\n",
    "diff_list_con_dem.append(sum(sem_diff)/len(sem_diff))\n",
    "\n",
    "sem_diff, common_vocab = diff_two_w2v_all_nei(dem_9, con_9, num_words)\n",
    "print(\"2011-\")\n",
    "most_diff_words(sem_diff, common_vocab, 100)\n",
    "diff_list_con_dem.append(sum(sem_diff)/len(sem_diff))\n",
    "\n",
    "sem_diff, common_vocab = diff_two_w2v_all_nei(dem_10, con_10, num_words)\n",
    "print(\"2016-\")\n",
    "most_diff_words(sem_diff, common_vocab, 100)\n",
    "diff_list_con_dem.append(sum(sem_diff)/len(sem_diff))"
   ]
  },
  {
   "cell_type": "code",
   "execution_count": 63,
   "metadata": {},
   "outputs": [
    {
     "data": {
      "image/png": "[encoded data removed]",
      "text/plain": [
       "<Figure size 432x288 with 1 Axes>"
      ]
     },
     "metadata": {
      "needs_background": "light"
     },
     "output_type": "display_data"
    }
   ],
   "source": [
    "years = [1988, 1993, 1998, 2003, 2008, 2013, 2018]\n",
    "    \n",
    "index = np.arange(len(years))\n",
    "plt.bar(index, diff_list_con_dem[3:])\n",
    "plt.xlabel('Years', fontsize=10)\n",
    "plt.ylabel('Average Cosine similarity b/w Conservative and NDP', fontsize=10)\n",
    "plt.xticks(index, years, fontsize=10, rotation=30)\n",
    "plt.title('Cosine similarity between word2vec of Conservertive Party \\nand NDP (window size: 5)')\n",
    "axes = plt.gca()\n",
    "axes.set_ylim([0.5,1])\n",
    "plt.show()"
   ]
  },
  {
   "cell_type": "code",
   "execution_count": 54,
   "metadata": {},
   "outputs": [
    {
     "name": "stdout",
     "output_type": "stream",
     "text": [
      "1971-\n",
      "Top 100 most changing word: \n",
      "yes furthermore publicly presumably naturally finally apparently constant view ordinary constantly none olympic publicity whenever reviewing exact pressing misleading minority complete fact upper gentleman declare moreover definite meantime advises arises green alleged please favourable wise urgent carter starting readily arising namely preliminary usual intensive translation concrete hyacinthe white crtc attempted disaster whitby computer surcharge satisfaction trust oshawa disposition talks promise edward false fit outstanding deferred consequently light seconded somehow partly premise endeavour charge whether undoubtedly games assembly agenda nil opening except bearing knowles initiatives criticism accordingly deliberately pulp adjourned closer immediately precise textile however absence oral prime fairly notices british drawing \n",
      "\n",
      "1976-\n",
      "Top 100 most changing word: \n",
      "publicly knowles furthermore reaching deferred favourable exact beneficial undoubtedly consequently finally attempts meantime naturally nay white heads calls presumably compliance whenever parizeau constant yea please yes veterans except broadbent heritage notwithstanding broadview normally dispose deterrent ordinary re pleasure expired belt separation douglas closure accordingly view remaining planned failed nil pre notices charter disposition preparation urgent disagreement actively distributed presentation bilingualism latter apparently reserve sign note arises fairly edward immediately truly redistribution interrupt pressing dairy fail declare hopefully necessity duty existed particular confusion simcoe translation uncertainty reasonably refuse m valuable textile readily worst room oral round consultations fit permitted languages drawing constantly \n",
      "\n",
      "1981-\n",
      "Top 100 most changing word: \n",
      "presumably pray latter upper moreover yea remaining thanks yes accordingly furthermore deliberately bound humbly please finds usually british essentially consequently enumerated opening quebecers nil fail deferred despite usual meets administrator moves nay separated actively punishment madam participants meantime except correctional closer hardly attempts waste none eventually columbia ill merely payable yukon post alsands grievance normally fit scotia undersigned complete secret passing neither block frequently declare principal honourable votes corporate exact metric game once satisfactory apparent unlike whereas pressing naturally considering ending participating immediately patronage negotiated adjourned red recognizing freeze refuse democratic calls adjournment languages murder showing duty extension finally straight completely \n",
      "\n",
      "1986-\n",
      "Top 100 most changing word: \n",
      "upper kamloops usually gun presumably british columbia book smoke edward remaining publicly breton quick translation wise blind burnaby scotia cape merely basically essence removing prescott patronage glengarry nevertheless russell fit thanks nova operative prince keeping northwest essentially signal virtually doesn forth vis pre namely normally block permanent fairly cross hidden hardly don furthermore cable chinese seat harm fabric smoking liberal apart uncertainty vanier hopes white nickel actually re fishermen stress eventually blow confusion none handling once showing fast previously game saskatchewan except m precisely royal desperate democrats free universal breaking fine bell exactly profitable silent recognizing generous meant duty diversification reverse \n",
      "\n",
      "1991-\n",
      "Top 100 most changing word: \n",
      "separation overlap duplication consequently red straight constantly closer realistic preparing bear ending perfectly kamloops furthermore re agri balanced namely offers trust whenever meaning challenges breton harm usual ultimate francophones british veiy block light book overall target pearson concrete cape challenge generous none veto game cmhc gun repeatedly once mission separate witness grandparents entirely enjoyed nevertheless consistently actively notwithstanding ill distinct finally main qualified opening confidence free columbia advance telephone touch gdp renewed greenwood capable practical mark priority quebecois assisted cbc reaction allegations apparently lobbyists multiculturalism saint appointments underground confederation immigration newspapers tend refuse armed mmt double ultimately edward neither partnership targets \n",
      "\n",
      "1996-\n",
      "Top 100 most changing word: \n",
      "merely nonsense bouchard unlike apart extraordinary underground gun separatist separatists peterborough usual ignored finances confusion ours stress quick wellington minorities constantly norad indeed reject guelph accordingly serves reforms oath theme offers wherever quebeckers responding hopefully spite yes accomplished remarkable bear newfoundland register divorce fast forth failed duplication renewal excellent ordinary while francophones pq fit closure distinct proof tier waterloo scholarship deserves throne extending basically near strikes focused none nevertheless quebecers item allegations tough ignore false intervene attack attempts minority floor lies consistently reviewing milosevic prepare fail precisely track showing credibility closing falls renewed turning lawyers relate solid round confederation deleting refuse \n",
      "\n",
      "2001-\n",
      "Top 100 most changing word: \n",
      "definitely shape fast gun embryonic unlike showing failed imbalance stem constantly despite normally broken quebeckers cida outcome update closing chairs consistently ultimate lawyers vis challenged embryos ill namely actually fail grant apparently bottom privatization while falls outside perfectly corruption except cois haiti gentleman cell entire proportional informed remaining democrats unprecedented destroy bear moreover task inappropriate opening advanced throne worst finally neither nevertheless ending whatsoever wars none remains participating failure essentially theme papers medicare allegations challenge relation deep renewal saddam et main furthermore passing gomery strike outstanding parental preparedness hussein cells extraordinary quebecois track formal believed kidney star endangered basically holding supplementary \n",
      "\n",
      "2006-\n",
      "Top 100 most changing word: \n",
      "bear colombian badly chapter definitely punitive hst corner liberal panama democrats opening fast jordan ending asbestos counter consistently british except inherited incredibly trusts extraordinary warning exact closure precisely columbia indeed burnaby kelowna track silent westminster notwithstanding solid front passing technical bottom smart ndp yes ultimately tar shipbuilding lay cadman cowichan match virtually progressive wing forth kept mississauga wanting nanaimo gain obviously basically challenge free minority advance corruption eventually accordingly equally course quick photo desperate signing voter books strike sake bar usual onto fail main examine apparently haiti unlike straight gun voters above eliminating floor consequence firm furthermore cois continued diligence seats \n",
      "\n",
      "2011-\n",
      "Top 100 most changing word: \n",
      "inside above nevertheless white navigable degree suspect gatineau thus ultimately exact virtually trials postal zero essence merit whereas alone definitely fairly ndp strikes once extraordinary lockout meaning balanced bear forth appalling proactive liberal file notes eyes gantic vast please considering injection accordingly red opening mail supervised quick signing unpaid immigration books whole moreover possibly universal munitions via jack tape asbestos practical normal democrats games missing westminster chr harbour evasion quebeckers equally edward laval indeed greatly tien t supplement accord except online cross incredibly plus voter lines sign shocking registry columbia british extreme deep houses prairie cn main legislators detail horse since \n",
      "\n",
      "2016-\n",
      "Top 100 most changing word: \n",
      "ceos virtually missed critically definitely breaking essex unlike closing inside broken ordinary delivery class consistently expectations client stock universal democrats firm ndp drummond fine update above light actively hand loophole none unprecedented immediately refusing connected demonstrated whole rich possibly mail middle failing ceo enhancement precisely considering fast sign bilateral surplus aggressive fantastic absolute yet compassionate forth opening tremendous critic feedback historic fail sound guaranteed carriers despite push smart niagara census attacks strikes responses quebeckers title coalition signing fashion except closely lines vast northwest intend powerful failed declare failure extremely usually armed degree re launch once wealthiest g prepare pharmacare immigration wishes \n",
      "\n"
     ]
    }
   ],
   "source": [
    "num_words = 3000\n",
    "diff_list_lib_dem = []\n",
    "\n",
    "sem_diff, common_vocab = diff_two_w2v_all_nei(dem_1, lib_1, num_words)\n",
    "print(\"1971-\")\n",
    "most_diff_words(sem_diff, common_vocab, 100)\n",
    "diff_list_lib_dem.append(sum(sem_diff)/len(sem_diff))\n",
    "\n",
    "sem_diff, common_vocab = diff_two_w2v_all_nei(dem_2, lib_2, num_words)\n",
    "print(\"1976-\")\n",
    "most_diff_words(sem_diff, common_vocab, 100)\n",
    "diff_list_lib_dem.append(sum(sem_diff)/len(sem_diff))\n",
    "\n",
    "sem_diff, common_vocab = diff_two_w2v_all_nei(dem_3, lib_3, num_words)\n",
    "print(\"1981-\")\n",
    "most_diff_words(sem_diff, common_vocab, 100)\n",
    "diff_list_lib_dem.append(sum(sem_diff)/len(sem_diff))\n",
    "\n",
    "sem_diff, common_vocab = diff_two_w2v_all_nei(dem_4, lib_4, num_words)\n",
    "print(\"1986-\")\n",
    "most_diff_words(sem_diff, common_vocab, 100)\n",
    "diff_list_lib_dem.append(sum(sem_diff)/len(sem_diff))\n",
    "\n",
    "sem_diff, common_vocab = diff_two_w2v_all_nei(dem_5, lib_5, num_words)\n",
    "print(\"1991-\")\n",
    "most_diff_words(sem_diff, common_vocab, 100)\n",
    "diff_list_lib_dem.append(sum(sem_diff)/len(sem_diff))\n",
    "\n",
    "sem_diff, common_vocab = diff_two_w2v_all_nei(dem_6, lib_6, num_words)\n",
    "print(\"1996-\")\n",
    "most_diff_words(sem_diff, common_vocab, 100)\n",
    "diff_list_lib_dem.append(sum(sem_diff)/len(sem_diff))\n",
    "\n",
    "sem_diff, common_vocab = diff_two_w2v_all_nei(dem_7, lib_7, num_words)\n",
    "print(\"2001-\")\n",
    "most_diff_words(sem_diff, common_vocab, 100)\n",
    "diff_list_lib_dem.append(sum(sem_diff)/len(sem_diff))\n",
    "\n",
    "sem_diff, common_vocab = diff_two_w2v_all_nei(dem_8, lib_8, num_words)\n",
    "print(\"2006-\")\n",
    "most_diff_words(sem_diff, common_vocab, 100)\n",
    "diff_list_lib_dem.append(sum(sem_diff)/len(sem_diff))\n",
    "\n",
    "sem_diff, common_vocab = diff_two_w2v_all_nei(dem_9, lib_9, num_words)\n",
    "print(\"2011-\")\n",
    "most_diff_words(sem_diff, common_vocab, 100)\n",
    "diff_list_lib_dem.append(sum(sem_diff)/len(sem_diff))\n",
    "\n",
    "sem_diff, common_vocab = diff_two_w2v_all_nei(dem_10, lib_10, num_words)\n",
    "print(\"2016-\")\n",
    "most_diff_words(sem_diff, common_vocab, 100)\n",
    "diff_list_lib_dem.append(sum(sem_diff)/len(sem_diff))"
   ]
  },
  {
   "cell_type": "code",
   "execution_count": 55,
   "metadata": {},
   "outputs": [
    {
     "data": {
      "image/png": "[encoded data removed]",
      "text/plain": [
       "<Figure size 432x288 with 1 Axes>"
      ]
     },
     "metadata": {
      "needs_background": "light"
     },
     "output_type": "display_data"
    }
   ],
   "source": [
    "years = [1988, 1993, 1998, 2003, 2008, 2013, 2018]\n",
    "    \n",
    "index = np.arange(len(years))\n",
    "plt.bar(index, diff_list_lib_dem[3:])\n",
    "plt.xlabel('Years', fontsize=10)\n",
    "plt.ylabel('Average Cosine similarity b/w Liberal Party and NDP', fontsize=10)\n",
    "plt.xticks(index, years, fontsize=10, rotation=30)\n",
    "plt.title('Cosine similarity between word2vec of Liberal Party \\nand NDP (window size: 5)')\n",
    "axes = plt.gca()\n",
    "axes.set_ylim([0.5,1])\n",
    "plt.show()"
   ]
  },
  {
   "cell_type": "code",
   "execution_count": 56,
   "metadata": {},
   "outputs": [
    {
     "name": "stdout",
     "output_type": "stream",
     "text": [
      "1971-\n",
      "Top 100 most changing word: \n",
      "yes naturally mess view finally ad presumably moreover remaining seconded light fact hyacinthe breton bearing pressing edward please arises prime except constant whenever starting whelan what gentleman declare whether endeavour lang absence benson kingdom yet none consequently vis crowfoot british fit why how latter immediately sign precisely furthermore seat apparently columbia acting meantime reviewing closer universal constantly alleged cape apart arising coin uic striking neither confusion scotia ill accordingly postmaster ordinary once misleading re adequately notwithstanding olympics surrounding test fundy treasury exact ministerial green spite however turner paper freeze operative course absolutely unanimous contingency worst auto supplementary holding straight olympic secret \n",
      "\n",
      "1976-\n",
      "Top 100 most changing word: \n",
      "ad crosbie furthermore presumably naturally yes lalonde moreover finally bearing please white closure arises accordingly turner metric edward pressing lambert consequently belt sir except digest reader meantime apparently declare postmaster none fairly seconded recognizing comptroller view user progressive deferred heads accounting kingdom scotia undoubtedly whelan pre pleasure clean neither british conversion above game whenever light mess urgent vis latter remaining simcoe unanimous stevens loto nevertheless reverse eventually sign fine room despite fit paper fact precisely madam calls horner consequence dairy worst congress nickel carleton presentation why confusion prefer tory dates adjourned adjourn clark notwithstanding languages what division nova breakdown york door \n",
      "\n",
      "1981-\n",
      "Top 100 most changing word: \n",
      "crosbie yes naturally presumably yukon bureaucrats metric whelan seconded british mazankowski taylor gray progressive meantime moreover canadair neither whereas madam nepean driving nova via voters none maceachen lottery finally nay sir nevertheless columbia chretien nielsen game wise cast ill despite bearing punishment dot scotia axworthy closer yea consequently pool except havilland wilson pepin tories fit post lalonde robinson remaining edward precisely alone finds please recognizing alsands leaving lie turner operative nil conservative destroyed ad fairly merely simcoe perfectly liberal eventually bow mountain apart thanks fine epp carleton above referendum apparently exact pre whenever fail dispose once manitoba clean clark parent mulroney \n",
      "\n",
      "1986-\n",
      "Top 100 most changing word: \n",
      "yea naturally separately vis smoke listed nay prescott none russell fit glengarry please broken wise garry unprecedented secret remaining book ill missing finally columbia auto constantly liberal adjournment british pray closure reverse humbly nevertheless apparently crosbie fast smoking critic oshawa socialist epp free tories chapter moreover prime whatsoever heads scotia declare hidden fairly divided challenge operative preamble track state apart confusion abitibi white basically usually pact prefer edward thunder prince rain yet re gentleman though coalition supplementary whereas once grace regressive risen acoa rising doesn essex fail again dame nova goods hardly resuming m game incredible alliance copps liberals worst translation \n",
      "\n",
      "1991-\n",
      "Top 100 most changing word: \n",
      "yea moves whenever reformers acting block oral breton nay red prescott split glengarry british columbia russell consequently liberal scotia constantly cape kingston none fit veiy neither patronage reverse please absence post adjournment reform fine consistently inside expired strikes basically above routine recorded listed finally essentially normally apparently progressive oceans daily witness printed nevertheless advance nova refuse bottom bear edward magazine tory once quo agri object again fraser white bureaucrats precisely thunder adopt universal quebecois greenwood immigration gun privatization closure separation entire perfectly fixed double indeed votes demanding book closing solicitor underground human whereas orders welfare prince cards risen congress declare opening \n",
      "\n",
      "1996-\n",
      "Top 100 most changing word: \n",
      "patronage closure ill none columbians challenge bureaucrats reform progressive stress actually votes yet conservative hepatitis spite failed whenever british finally allocation cover fresh consecutive ending nevertheless appointments suddenly critic managing renewal refuses consistently fine weak secretary wild pearson whatsoever eventually killing missing doors selection transitional columbia package pre quo theme ignored mismanagement while solicitor scheme generally outstanding despite holding elsewhere reformers ordinary smoke basically broken quebecois heads game strikes once usual inside neither fit scrap gun medicare languages unfortunately track entire reserve attempts irresponsible separation partisan though somewhat native medicine yes top newfoundland above merely perhaps remaining near mississauga handling party \n",
      "\n",
      "2001-\n",
      "Top 100 most changing word: \n",
      "conservative bureaucracy blind failing ad finally failed replacement cois alliance apparently showing surrey corruption sadly ill usual ultimate critic mismanagement progressive passing tien usually track chr despite yet nunavut whenever liberals neither virtually breaking failure columbia british et secret responding task unfortunately gentleman constantly lasalle challenge closure shape quebecois bureaucrats registry red alone endangered leaving actually weak ending mard scheme eventually zero extraordinary repeatedly traditional allocation governing gun bear forth closing millions black whatsoever heads liberal none basically agenda wishes remarkable conservatives relation generally while above procurement lists scotia publicly nova fail wherever minority states now drinking writing secretary definitely instead \n",
      "\n",
      "2006-\n",
      "Top 100 most changing word: \n",
      "tape liberal sponsorship definitely failing coalition vis pickering kelowna bear returns block precisely tenured corruption et wing extending universal closing cois fails tackling broken failure title etobicoke patient columbia fit fail missing repeatedly update fast secret yet trust cetera critic indeed qu consistently abiding acting barley wascana inaction lay track technical finally throne please prisons malpeque sound absence secretary seal trusts yes liberals library consultants red sadly surely apparently notwithstanding remaining none progressive virtually registry whatsoever refuses generally hunt british census cbc cancelled conservative delivering killing wheat fine ignored literacy unprecedented senators ideological directly responding agri gun minister uniform leader publicly \n",
      "\n",
      "2011-\n",
      "Top 100 most changing word: \n",
      "universal inside merit critically stoppage forth mail alone zero closing strongest quebeckers pro degree please posed digital ultimately broken starting suspect fairly carbon vast fit bear extending liberal quo ineffective guelph exact strikes reverse bargaining gun continuing impaired search virtually finally accord massive delay update gulf registry crack unprecedented inappropriate keeping indeed unions fail contrast equally streets killing long formula advise barbaric productive quick closer ending immigration re conservative builds cuts pooled class asylum wasteful chr yea apparently throne failed considerable whole rising sort white qu proactive generally extraordinary worst thus what returning deleting id sands regularly petitioners closely ready returns \n",
      "\n",
      "2016-\n",
      "Top 100 most changing word: \n",
      "inside conservative closing lay broken lavalin virtually cover harper bear firm snc shepell heavy sound above morneau consistently smart finally connected none stephen balanced blind guaranteed eye light usually wealthiest enormous barrie saudi hiding basically previous accord waste welfare fixed actual brampton closure middle fail killing liberals strike update failure scandal imposing black injection except yet reverse phoenix somewhat yes failing relatively definitely claim powerful fine sorts withdraw merit despite yukon breaking red raising mail forth scientists regular trans contrast committed supplement unlike cbc outside claims conservatives historic fit normal strikes owner tpp sign failed liberal critic lifted once monitor quick \n",
      "\n"
     ]
    }
   ],
   "source": [
    "num_words = 3000\n",
    "diff_list_lib_con = []\n",
    "\n",
    "sem_diff, common_vocab = diff_two_w2v_all_nei(con_1, lib_1, num_words)\n",
    "print(\"1971-\")\n",
    "most_diff_words(sem_diff, common_vocab, 100)\n",
    "diff_list_lib_con.append(sum(sem_diff)/len(sem_diff))\n",
    "\n",
    "sem_diff, common_vocab = diff_two_w2v_all_nei(con_2, lib_2, num_words)\n",
    "print(\"1976-\")\n",
    "most_diff_words(sem_diff, common_vocab, 100)\n",
    "diff_list_lib_con.append(sum(sem_diff)/len(sem_diff))\n",
    "\n",
    "sem_diff, common_vocab = diff_two_w2v_all_nei(con_3, lib_3, num_words)\n",
    "print(\"1981-\")\n",
    "most_diff_words(sem_diff, common_vocab, 100)\n",
    "diff_list_lib_con.append(sum(sem_diff)/len(sem_diff))\n",
    "\n",
    "sem_diff, common_vocab = diff_two_w2v_all_nei(con_4, lib_4, num_words)\n",
    "print(\"1986-\")\n",
    "most_diff_words(sem_diff, common_vocab, 100)\n",
    "diff_list_lib_con.append(sum(sem_diff)/len(sem_diff))\n",
    "\n",
    "sem_diff, common_vocab = diff_two_w2v_all_nei(con_5, lib_5, num_words)\n",
    "print(\"1991-\")\n",
    "most_diff_words(sem_diff, common_vocab, 100)\n",
    "diff_list_lib_con.append(sum(sem_diff)/len(sem_diff))\n",
    "\n",
    "sem_diff, common_vocab = diff_two_w2v_all_nei(con_6, lib_6, num_words)\n",
    "print(\"1996-\")\n",
    "most_diff_words(sem_diff, common_vocab, 100)\n",
    "diff_list_lib_con.append(sum(sem_diff)/len(sem_diff))\n",
    "\n",
    "sem_diff, common_vocab = diff_two_w2v_all_nei(con_7, lib_7, num_words)\n",
    "print(\"2001-\")\n",
    "most_diff_words(sem_diff, common_vocab, 100)\n",
    "diff_list_lib_con.append(sum(sem_diff)/len(sem_diff))\n",
    "\n",
    "sem_diff, common_vocab = diff_two_w2v_all_nei(con_8, lib_8, num_words)\n",
    "print(\"2006-\")\n",
    "most_diff_words(sem_diff, common_vocab, 100)\n",
    "diff_list_lib_con.append(sum(sem_diff)/len(sem_diff))\n",
    "\n",
    "sem_diff, common_vocab = diff_two_w2v_all_nei(con_9, lib_9, num_words)\n",
    "print(\"2011-\")\n",
    "most_diff_words(sem_diff, common_vocab, 100)\n",
    "diff_list_lib_con.append(sum(sem_diff)/len(sem_diff))\n",
    "\n",
    "sem_diff, common_vocab = diff_two_w2v_all_nei(con_10, lib_10, num_words)\n",
    "print(\"2016-\")\n",
    "most_diff_words(sem_diff, common_vocab, 100)\n",
    "diff_list_lib_con.append(sum(sem_diff)/len(sem_diff))"
   ]
  },
  {
   "cell_type": "code",
   "execution_count": 57,
   "metadata": {},
   "outputs": [
    {
     "data": {
      "image/png": "[encoded data removed]",
      "text/plain": [
       "<Figure size 432x288 with 1 Axes>"
      ]
     },
     "metadata": {
      "needs_background": "light"
     },
     "output_type": "display_data"
    }
   ],
   "source": [
    "years = [1988, 1993, 1998, 2003, 2008, 2013, 2018]\n",
    "    \n",
    "index = np.arange(len(years))\n",
    "plt.bar(index, diff_list_lib_dem[3:])\n",
    "plt.xlabel('Years', fontsize=10)\n",
    "plt.ylabel('Average Cosine similarity b/w Liberal and Conservative', fontsize=10)\n",
    "plt.xticks(index, years, fontsize=10, rotation=30)\n",
    "plt.title('Cosine similarity between word2vec of Liberal Party \\nand Conservative party (window size: 5)')\n",
    "axes = plt.gca()\n",
    "axes.set_ylim([0.5,1])\n",
    "plt.show()"
   ]
  },
  {
   "cell_type": "code",
   "execution_count": null,
   "metadata": {},
   "outputs": [],
   "source": []
  }
 ],
 "metadata": {
  "kernelspec": {
   "display_name": "Python 3",
   "language": "python",
   "name": "python3"
  },
  "language_info": {
   "codemirror_mode": {
    "name": "ipython",
    "version": 3
   },
   "file_extension": ".py",
   "mimetype": "text/x-python",
   "name": "python",
   "nbconvert_exporter": "python",
   "pygments_lexer": "ipython3",
   "version": "3.7.4"
  }
 },
 "nbformat": 4,
 "nbformat_minor": 2
}
