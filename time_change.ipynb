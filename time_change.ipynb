{
 "cells": [
  {
   "cell_type": "code",
   "execution_count": 1,
   "metadata": {},
   "outputs": [],
   "source": [
    "import os\n",
    "import numpy as np\n",
    "from gensim.models import Word2Vec\n",
    "from gensim.models import KeyedVectors\n",
    "import gensim\n",
    "from sklearn.metrics.pairwise import cosine_similarity\n",
    "import matplotlib.pyplot as plt"
   ]
  },
  {
   "cell_type": "markdown",
   "metadata": {},
   "source": [
    "# Needed Functions"
   ]
  },
  {
   "cell_type": "code",
   "execution_count": 2,
   "metadata": {},
   "outputs": [],
   "source": [
    "def diff_two_w2v_all_nei(m1, m2, num_words):\n",
    "    # pick common words between two embeddings and sort them\n",
    "    common_vocab = set(m1.wv.vocab.keys())&set(m2.wv.vocab.keys())\n",
    "    common_vocab = list(common_vocab)\n",
    "    common_vocab.sort(key=lambda w: m1.wv.vocab[w].count + m2.wv.vocab[w].count,reverse=True)\n",
    "\n",
    "    # convert gensim w2v to numpy array\n",
    "    m1_np = np.zeros((num_words, 300))\n",
    "    m2_np = np.zeros((num_words, 300))\n",
    "    \n",
    "    for i in range(num_words):\n",
    "        vec = m1.wv[common_vocab[i]]\n",
    "        m1_np[i] = vec\n",
    "        vec = m2.wv[common_vocab[i]]\n",
    "        m2_np[i] = vec\n",
    "        \n",
    "    # each vector represent a relationship between a word and all the other words + the word itself\n",
    "    cosim_m1 = cosine_similarity(m1_np, m1_np)\n",
    "    cosim_m2 = cosine_similarity(m2_np, m2_np)\n",
    "    \n",
    "    sem_diff = []\n",
    "    \n",
    "    for i in range(num_words):\n",
    "        sem_diff.append(cosine_similarity(cosim_m1[i].reshape(1, -1), cosim_m2[i].reshape(1, -1))[0][0])\n",
    "        \n",
    "    return sem_diff, common_vocab"
   ]
  },
  {
   "cell_type": "code",
   "execution_count": 3,
   "metadata": {},
   "outputs": [],
   "source": [
    "def closest_word_in_other_model(m1, m2, word, num_words):\n",
    "    # pick common words between two embeddings and sort them\n",
    "    common_vocab = set(m1.wv.vocab.keys())&set(m2.wv.vocab.keys())\n",
    "    common_vocab = list(common_vocab)\n",
    "    common_vocab.sort(key=lambda w: m1.wv.vocab[w].count + m2.wv.vocab[w].count,reverse=True)\n",
    "\n",
    "    # convert gensim w2v to numpy array\n",
    "    m1_np = np.zeros((num_words, 300))\n",
    "    m2_np = np.zeros((num_words, 300))\n",
    "    \n",
    "    for i in range(num_words):\n",
    "        vec = m1.wv[common_vocab[i]]\n",
    "        m1_np[i] = vec\n",
    "        vec = m2.wv[common_vocab[i]]\n",
    "        m2_np[i] = vec\n",
    "        \n",
    "    # each vector represent a relationship between a word and all the other words + the word itself\n",
    "    cosim_m1 = cosine_similarity(m1_np, m1_np)\n",
    "    cosim_m2 = cosine_similarity(m2_np, m2_np)\n",
    "    \n",
    "    sem_diff = []\n",
    "    \n",
    "    word_neighbor_in_m1 = cosim_m1[common_vocab.index(word)]\n",
    "    \n",
    "    closest_word_in_m2_index = 0\n",
    "    max_sim = 0\n",
    "\n",
    "    for i in range(num_words):\n",
    "        sim = cosine_similarity(word_neighbor_in_m1.reshape(1, -1), cosim_m2[i].reshape(1, -1))[0][0]\n",
    "        if max_sim < sim:\n",
    "            closest_word_in_m2_index = i\n",
    "            max_sim = sim\n",
    "    \n",
    "    return common_vocab[closest_word_in_m2_index], max_sim"
   ]
  },
  {
   "cell_type": "code",
   "execution_count": 4,
   "metadata": {},
   "outputs": [],
   "source": [
    "def most_diff_words(sem_diff, common_vocab, num):\n",
    "    most_diff_words = sorted(range(len(sem_diff)), key=lambda i: sem_diff[i], reverse=False)\n",
    "\n",
    "    print(\"Top\", num, \"most changing word: \")\n",
    "    count = 0\n",
    "    for i in most_diff_words:\n",
    "        print(common_vocab[i], end = ' ')\n",
    "        count += 1\n",
    "        if count > num:\n",
    "            break\n",
    "            \n",
    "    print(\"\\n\")\n",
    "    return most_diff_words"
   ]
  },
  {
   "cell_type": "markdown",
   "metadata": {},
   "source": [
    "# Window size 5: Most changed words"
   ]
  },
  {
   "cell_type": "code",
   "execution_count": 6,
   "metadata": {},
   "outputs": [],
   "source": [
    "year = '2001-2019'\n",
    "\n",
    "m6 = Word2Vec.load('300d_5win\\\\300d_5winlipad'+year+'.bin')\n",
    "\n",
    "year = '1981-2000'\n",
    "\n",
    "m5 = Word2Vec.load('300d_5win\\\\300d_5winlipad'+year+'.bin')\n",
    "\n",
    "year = '1961-1980'\n",
    "\n",
    "m4 = Word2Vec.load('300d_5win\\\\300d_5winlipad'+year+'.bin')\n",
    "\n",
    "year = '1941-1960'\n",
    "\n",
    "m3 = Word2Vec.load('300d_5win\\\\300d_5winlipad'+year+'.bin')\n",
    "\n",
    "year = '1921-1940'\n",
    "\n",
    "m2 = Word2Vec.load('300d_5win\\\\300d_5winlipad'+year+'.bin')\n",
    "\n",
    "year = '1901-1920'\n",
    "\n",
    "m1 = Word2Vec.load('300d_5win\\\\300d_5winlipad'+year+'.bin')"
   ]
  },
  {
   "cell_type": "code",
   "execution_count": 9,
   "metadata": {},
   "outputs": [
    {
     "name": "stdout",
     "output_type": "stream",
     "text": [
      "Top 100 most changing word: \n",
      "programs goals basically significantly foster con currently venture overall addresses ret quebeckers transparency major dot challenges govt expertise gst x nay softwood ans terrorists fielding cor accord splitting supplement choices rep sponsorship mps afghan agenda c regulatory com ac gender ei ms sector cois content offshore re un refugee accountability criteria priority sustainable meaningful address internationally f innovation allocation somehow amt implementation impaired res processing balanced approach secondary works sentencing funded freedoms essentially impact bloc harper today steamers target cuts targets et marie her values greenhouse current transparent round imperial trans madam ques guard ban inside w terms equalization funding shape \n",
      "\n"
     ]
    }
   ],
   "source": [
    "num_words = 3000\n",
    "diff_list = []\n",
    "\n",
    "sem_diff, common_vocab = diff_two_w2v_all_nei(m1, m6, num_words)\n",
    "changed_words_5_win = most_diff_words(sem_diff, common_vocab, 10)\n",
    "diff_list.append(sum(sem_diff)/len(sem_diff))"
   ]
  },
  {
   "cell_type": "markdown",
   "metadata": {},
   "source": [
    "# Window size 20: Most changed words"
   ]
  },
  {
   "cell_type": "code",
   "execution_count": 12,
   "metadata": {},
   "outputs": [],
   "source": [
    "year = '2001-2019'\n",
    "\n",
    "m6 = Word2Vec.load('300d_20win\\\\lipad'+year+'.bin')\n",
    "\n",
    "year = '1981-2000'\n",
    "\n",
    "m5 = Word2Vec.load('300d_20win\\\\lipad'+year+'.bin')\n",
    "\n",
    "year = '1961-1980'\n",
    "\n",
    "m4 = Word2Vec.load('300d_20win\\\\lipad'+year+'.bin')\n",
    "\n",
    "year = '1941-1960'\n",
    "\n",
    "m3 = Word2Vec.load('300d_20win\\\\lipad'+year+'.bin')\n",
    "\n",
    "year = '1921-1940'\n",
    "\n",
    "m2 = Word2Vec.load('300d_20win\\\\lipad'+year+'.bin')\n",
    "\n",
    "year = '1901-1920'\n",
    "\n",
    "m1 = Word2Vec.load('300d_20win\\\\lipad'+year+'.bin')"
   ]
  },
  {
   "cell_type": "code",
   "execution_count": 6,
   "metadata": {},
   "outputs": [
    {
     "name": "stdout",
     "output_type": "stream",
     "text": [
      "Top 10 most changing word: \n",
      "programs expertise overall goals criteria transparency choices challenges con major nay \n",
      "\n"
     ]
    }
   ],
   "source": [
    "num_words = 3000\n",
    "diff_list = []\n",
    "\n",
    "sem_diff, common_vocab = diff_two_w2v_all_nei(m1, m6, num_words)\n",
    "changed_words_20_win = most_diff_words(sem_diff, common_vocab, 10)\n",
    "diff_list.append(sum(sem_diff)/len(sem_diff))"
   ]
  },
  {
   "cell_type": "code",
   "execution_count": 20,
   "metadata": {},
   "outputs": [
    {
     "name": "stdout",
     "output_type": "stream",
     "text": [
      "basically\n",
      "significantly\n",
      "foster\n",
      "currently\n",
      "venture\n",
      "addresses\n"
     ]
    }
   ],
   "source": [
    "for word in changed_words_5_win[:10]:\n",
    "    if word not in changed_words_20_win[:10]:\n",
    "        print(common_vocab[word])"
   ]
  },
  {
   "cell_type": "code",
   "execution_count": 21,
   "metadata": {},
   "outputs": [
    {
     "name": "stdout",
     "output_type": "stream",
     "text": [
      "expertise\n",
      "criteria\n",
      "transparency\n",
      "choices\n",
      "challenges\n",
      "major\n"
     ]
    }
   ],
   "source": [
    "for word in changed_words_20_win[:10]:\n",
    "    if word not in changed_words_5_win[:10]:\n",
    "        print(common_vocab[word])"
   ]
  },
  {
   "cell_type": "markdown",
   "metadata": {},
   "source": [
    "# Diachronic Word Replacement"
   ]
  },
  {
   "cell_type": "code",
   "execution_count": 36,
   "metadata": {},
   "outputs": [
    {
     "name": "stdout",
     "output_type": "stream",
     "text": [
      "speaker debate\n",
      "people canadians\n",
      "c v\n",
      "think believe\n",
      "work job\n",
      "act section\n",
      "question issue\n",
      "over into\n",
      "may must\n",
      "you they\n",
      "quebec ontario\n",
      "issue agreement\n",
      "friend colleague\n",
      "liberal conservative\n",
      "com v\n",
      "million billion\n",
      "men people\n",
      "industry economy\n",
      "three four\n",
      "conservatives liberals\n",
      "plan measure\n",
      "might could\n",
      "b d\n",
      "care advantage\n",
      "across into\n",
      "jobs job\n",
      "policy approach\n",
      "action position\n",
      "community society\n",
      "ii v\n",
      "ontario alberta\n",
      "development growth\n",
      "sure saying\n",
      "m ii\n",
      "security condition\n",
      "five six\n",
      "problem situation\n",
      "nations countries\n",
      "ques v\n",
      "services service\n",
      "questions issues\n",
      "terms provisions\n",
      "re regarding\n",
      "once least\n",
      "call bring\n",
      "environment society\n",
      "address speech\n",
      "west north\n",
      "iii v\n",
      "week month\n",
      "wish want\n",
      "concerns areas\n",
      "th march\n",
      "employment benefits\n",
      "official officer\n",
      "gentlemen members\n",
      "class country\n",
      "dominion canada\n",
      "chair house\n",
      "secretary commissioner\n",
      "pleased prepared\n",
      "former previous\n",
      "approach recognize\n",
      "businesses countries\n",
      "u d\n",
      "term provision\n",
      "energy opportunities\n",
      "credit advantage\n",
      "role position\n",
      "p d\n",
      "problems issues\n",
      "committed appointed\n",
      "fund funds\n",
      "review report\n",
      "e d\n",
      "local provincial\n",
      "resolution motion\n",
      "account amount\n",
      "connection regard\n",
      "housing including\n",
      "victims lives\n",
      "vi v\n",
      "management administration\n",
      "supply provide\n",
      "commitment statement\n",
      "measure legislation\n",
      "centre region\n",
      "share advantage\n",
      "spending getting\n",
      "concern interest\n",
      "organizations groups\n",
      "reference regard\n",
      "officials officers\n",
      "risk advantage\n",
      "alberta ontario\n",
      "r d\n",
      "east north\n",
      "ought should\n",
      "gas water\n",
      "stock property\n",
      "project measure\n",
      "winnipeg toronto\n",
      "region area\n",
      "territories lands\n",
      "wheat grain\n",
      "g d\n",
      "n d\n",
      "county riding\n",
      "climate communities\n",
      "agency organization\n",
      "worked gone\n",
      "decisions recommendations\n",
      "projects areas\n",
      "please ask\n",
      "points areas\n",
      "quality products\n",
      "petition letter\n",
      "investigation inquiry\n",
      "announced introduced\n",
      "inquiry investigation\n",
      "harbour port\n",
      "investments companies\n",
      "saskatchewan manitoba\n",
      "encourage create\n",
      "related referred\n",
      "condition situation\n",
      "balance billion\n",
      "plans recommendations\n",
      "charter agreement\n",
      "pleasure opportunity\n",
      "ground position\n"
     ]
    }
   ],
   "source": [
    "closest_words_and_sim = []\n",
    "\n",
    "for w in common_vocab[:1000]:\n",
    "    # pick the closest word in the other model\n",
    "    closest_word, sim = closest_word_in_other_model(m1, m6, w, 1000)\n",
    "    # if the cosine similarity is larger than .5 the closest word is not the word itself\n",
    "    # print and store the word\n",
    "    if sim > 0.5 and w != closest_word:\n",
    "        print(w, closest_word)\n",
    "        closest_words_and_sim.append([w, closest_word, sim])"
   ]
  },
  {
   "cell_type": "code",
   "execution_count": 37,
   "metadata": {},
   "outputs": [
    {
     "name": "stdout",
     "output_type": "stream",
     "text": [
      "speaker yesterday\n",
      "people men\n",
      "should ought\n",
      "canadians people\n",
      "c following\n",
      "over during\n",
      "you i\n",
      "parliament house\n",
      "issue question\n",
      "friend colleague\n",
      "liberal conservative\n",
      "believe think\n",
      "budget expenditure\n",
      "she he\n",
      "her his\n",
      "present presented\n",
      "respect regard\n",
      "conservatives liberals\n",
      "economic development\n",
      "across throughout\n",
      "jobs families\n",
      "program system\n",
      "billion million\n",
      "community city\n",
      "ii including\n",
      "process legislation\n",
      "remarks speech\n",
      "economy industry\n",
      "workers families\n",
      "issues questions\n",
      "security safety\n",
      "five six\n",
      "talk know\n",
      "north east\n",
      "access provide\n",
      "once when\n",
      "job work\n",
      "environment resources\n",
      "address consider\n",
      "iii b\n",
      "four three\n",
      "move bring\n",
      "iv c\n",
      "provided given\n",
      "military forces\n",
      "funding expenditure\n",
      "view opinion\n",
      "bloc opposition\n",
      "mentioned stated\n",
      "programs funds\n",
      "yes wrong\n",
      "concerns questions\n",
      "sector industry\n",
      "society community\n",
      "chair speaker\n",
      "pacific northern\n",
      "v b\n",
      "approach policy\n",
      "railways companies\n",
      "raised referred\n",
      "individuals persons\n",
      "energy development\n",
      "role position\n",
      "northern west\n",
      "veterans soldiers\n",
      "e b\n",
      "seniors families\n",
      "almost four\n",
      "code act\n",
      "costs cost\n",
      "earlier yesterday\n",
      "account consideration\n",
      "manitoba ontario\n",
      "return receive\n",
      "victims citizens\n",
      "vi c\n",
      "response reference\n",
      "level rate\n",
      "commitment efforts\n",
      "trunk miles\n",
      "significant large\n",
      "share see\n",
      "spending expenditure\n",
      "concern importance\n",
      "though although\n",
      "alberta ontario\n",
      "weeks days\n",
      "ability power\n",
      "d b\n",
      "growth development\n",
      "specific special\n",
      "project construction\n",
      "winnipeg toronto\n",
      "talked spoke\n",
      "created established\n",
      "groups organizations\n",
      "face find\n",
      "territories dominion\n",
      "strategy plan\n",
      "study report\n",
      "n r\n",
      "someone man\n",
      "whatever if\n",
      "agency board\n",
      "j g\n",
      "projects areas\n",
      "goods products\n",
      "points comments\n",
      "quality development\n",
      "suggest say\n",
      "w j\n",
      "halifax montreal\n",
      "inquiry investigation\n",
      "saskatchewan ontario\n",
      "related including\n",
      "reality thing\n",
      "condition case\n",
      "balance it\n",
      "charter law\n",
      "soldiers men\n",
      "ground market\n"
     ]
    }
   ],
   "source": [
    "closest_words_and_sim_opp = []\n",
    "\n",
    "for w in common_vocab[:1000]:\n",
    "    # pick the closest word in the other model\n",
    "    closest_word, sim = closest_word_in_other_model(m6, m1, w, 1000)\n",
    "    # if the cosine similarity is larger than .5 the closest word is not the word itself\n",
    "    # print and store the word\n",
    "    if sim > 0.5 and w != closest_word:\n",
    "        print(w, closest_word)\n",
    "        closest_words_and_sim_opp.append([w, closest_word, sim])"
   ]
  },
  {
   "cell_type": "markdown",
   "metadata": {},
   "source": [
    "# Changing Difference between minority vs. non-minority over time"
   ]
  },
  {
   "cell_type": "code",
   "execution_count": 27,
   "metadata": {},
   "outputs": [
    {
     "name": "stderr",
     "output_type": "stream",
     "text": [
      "C:\\Users\\Jungeun (June) Lim\\Anaconda3\\lib\\site-packages\\ipykernel_launcher.py:3: DeprecationWarning: Call to deprecated `similarity` (Method will be removed in 4.0.0, use self.wv.similarity() instead).\n",
      "  This is separate from the ipykernel package so we can avoid doing imports until\n",
      "C:\\Users\\Jungeun (June) Lim\\Anaconda3\\lib\\site-packages\\ipykernel_launcher.py:4: DeprecationWarning: Call to deprecated `similarity` (Method will be removed in 4.0.0, use self.wv.similarity() instead).\n",
      "  after removing the cwd from sys.path.\n",
      "C:\\Users\\Jungeun (June) Lim\\Anaconda3\\lib\\site-packages\\ipykernel_launcher.py:5: DeprecationWarning: Call to deprecated `similarity` (Method will be removed in 4.0.0, use self.wv.similarity() instead).\n",
      "  \"\"\"\n",
      "C:\\Users\\Jungeun (June) Lim\\Anaconda3\\lib\\site-packages\\ipykernel_launcher.py:6: DeprecationWarning: Call to deprecated `similarity` (Method will be removed in 4.0.0, use self.wv.similarity() instead).\n",
      "  \n",
      "C:\\Users\\Jungeun (June) Lim\\Anaconda3\\lib\\site-packages\\ipykernel_launcher.py:7: DeprecationWarning: Call to deprecated `similarity` (Method will be removed in 4.0.0, use self.wv.similarity() instead).\n",
      "  import sys\n",
      "C:\\Users\\Jungeun (June) Lim\\Anaconda3\\lib\\site-packages\\ipykernel_launcher.py:8: DeprecationWarning: Call to deprecated `similarity` (Method will be removed in 4.0.0, use self.wv.similarity() instead).\n",
      "  \n"
     ]
    }
   ],
   "source": [
    "woman_man_sim = []\n",
    "\n",
    "woman_man_sim.append(m1.similarity('woman', 'man'))\n",
    "woman_man_sim.append(m2.similarity('woman', 'man'))\n",
    "woman_man_sim.append(m3.similarity('woman', 'man'))\n",
    "woman_man_sim.append(m4.similarity('woman', 'man'))\n",
    "woman_man_sim.append(m5.similarity('woman', 'man'))\n",
    "woman_man_sim.append(m6.similarity('woman', 'man'))"
   ]
  },
  {
   "cell_type": "code",
   "execution_count": 28,
   "metadata": {},
   "outputs": [
    {
     "data": {
      "image/png": "[encoded data removed]",
      "text/plain": [
       "<Figure size 432x288 with 1 Axes>"
      ]
     },
     "metadata": {
      "needs_background": "light"
     },
     "output_type": "display_data"
    }
   ],
   "source": [
    "years = [1910, 1930, 1950, 1970, 1990, 2010]\n",
    "\n",
    "index = np.arange(len(years))\n",
    "plt.bar(index, woman_man_sim)\n",
    "plt.xlabel('Years', fontsize=10)\n",
    "plt.ylabel('Cosine similarity between \"woman\" and \"man\"', fontsize=10)\n",
    "plt.xticks(index, years, fontsize=10, rotation=30)\n",
    "axes = plt.gca()\n",
    "axes.set_ylim([0,1])\n",
    "plt.show()"
   ]
  },
  {
   "cell_type": "code",
   "execution_count": 29,
   "metadata": {},
   "outputs": [
    {
     "name": "stderr",
     "output_type": "stream",
     "text": [
      "C:\\Users\\Jungeun (June) Lim\\Anaconda3\\lib\\site-packages\\ipykernel_launcher.py:3: DeprecationWarning: Call to deprecated `similarity` (Method will be removed in 4.0.0, use self.wv.similarity() instead).\n",
      "  This is separate from the ipykernel package so we can avoid doing imports until\n",
      "C:\\Users\\Jungeun (June) Lim\\Anaconda3\\lib\\site-packages\\ipykernel_launcher.py:4: DeprecationWarning: Call to deprecated `similarity` (Method will be removed in 4.0.0, use self.wv.similarity() instead).\n",
      "  after removing the cwd from sys.path.\n",
      "C:\\Users\\Jungeun (June) Lim\\Anaconda3\\lib\\site-packages\\ipykernel_launcher.py:5: DeprecationWarning: Call to deprecated `similarity` (Method will be removed in 4.0.0, use self.wv.similarity() instead).\n",
      "  \"\"\"\n",
      "C:\\Users\\Jungeun (June) Lim\\Anaconda3\\lib\\site-packages\\ipykernel_launcher.py:6: DeprecationWarning: Call to deprecated `similarity` (Method will be removed in 4.0.0, use self.wv.similarity() instead).\n",
      "  \n",
      "C:\\Users\\Jungeun (June) Lim\\Anaconda3\\lib\\site-packages\\ipykernel_launcher.py:7: DeprecationWarning: Call to deprecated `similarity` (Method will be removed in 4.0.0, use self.wv.similarity() instead).\n",
      "  import sys\n",
      "C:\\Users\\Jungeun (June) Lim\\Anaconda3\\lib\\site-packages\\ipykernel_launcher.py:8: DeprecationWarning: Call to deprecated `similarity` (Method will be removed in 4.0.0, use self.wv.similarity() instead).\n",
      "  \n"
     ]
    }
   ],
   "source": [
    "women_men_sim = []\n",
    "\n",
    "women_men_sim.append(m1.similarity('women', 'men'))\n",
    "women_men_sim.append(m2.similarity('women', 'men'))\n",
    "women_men_sim.append(m3.similarity('women', 'men'))\n",
    "women_men_sim.append(m4.similarity('women', 'men'))\n",
    "women_men_sim.append(m5.similarity('women', 'men'))\n",
    "women_men_sim.append(m6.similarity('women', 'men'))"
   ]
  },
  {
   "cell_type": "code",
   "execution_count": 30,
   "metadata": {},
   "outputs": [
    {
     "data": {
      "image/png": "[encoded data removed]",
      "text/plain": [
       "<Figure size 432x288 with 1 Axes>"
      ]
     },
     "metadata": {
      "needs_background": "light"
     },
     "output_type": "display_data"
    }
   ],
   "source": [
    "years = [1910, 1930, 1950, 1970, 1990, 2010]\n",
    "\n",
    "index = np.arange(len(years))\n",
    "plt.bar(index, women_men_sim)\n",
    "plt.xlabel('Years', fontsize=10)\n",
    "plt.ylabel('Cosine similarity between \"women\" and \"men\"', fontsize=10)\n",
    "plt.xticks(index, years, fontsize=10, rotation=30)\n",
    "axes = plt.gca()\n",
    "axes.set_ylim([0,1])\n",
    "plt.show()"
   ]
  },
  {
   "cell_type": "code",
   "execution_count": 22,
   "metadata": {},
   "outputs": [
    {
     "name": "stderr",
     "output_type": "stream",
     "text": [
      "C:\\Users\\Jungeun (June) Lim\\Anaconda3\\lib\\site-packages\\ipykernel_launcher.py:3: DeprecationWarning: Call to deprecated `similarity` (Method will be removed in 4.0.0, use self.wv.similarity() instead).\n",
      "  This is separate from the ipykernel package so we can avoid doing imports until\n",
      "C:\\Users\\Jungeun (June) Lim\\Anaconda3\\lib\\site-packages\\ipykernel_launcher.py:4: DeprecationWarning: Call to deprecated `similarity` (Method will be removed in 4.0.0, use self.wv.similarity() instead).\n",
      "  after removing the cwd from sys.path.\n",
      "C:\\Users\\Jungeun (June) Lim\\Anaconda3\\lib\\site-packages\\ipykernel_launcher.py:5: DeprecationWarning: Call to deprecated `similarity` (Method will be removed in 4.0.0, use self.wv.similarity() instead).\n",
      "  \"\"\"\n",
      "C:\\Users\\Jungeun (June) Lim\\Anaconda3\\lib\\site-packages\\ipykernel_launcher.py:6: DeprecationWarning: Call to deprecated `similarity` (Method will be removed in 4.0.0, use self.wv.similarity() instead).\n",
      "  \n",
      "C:\\Users\\Jungeun (June) Lim\\Anaconda3\\lib\\site-packages\\ipykernel_launcher.py:7: DeprecationWarning: Call to deprecated `similarity` (Method will be removed in 4.0.0, use self.wv.similarity() instead).\n",
      "  import sys\n",
      "C:\\Users\\Jungeun (June) Lim\\Anaconda3\\lib\\site-packages\\ipykernel_launcher.py:8: DeprecationWarning: Call to deprecated `similarity` (Method will be removed in 4.0.0, use self.wv.similarity() instead).\n",
      "  \n"
     ]
    }
   ],
   "source": [
    "sim = []\n",
    "\n",
    "sim.append(m1.similarity('asian', 'canadian'))\n",
    "sim.append(m2.similarity('asian', 'canadian'))\n",
    "sim.append(m3.similarity('asian', 'canadian'))\n",
    "sim.append(m4.similarity('asian', 'canadian'))\n",
    "sim.append(m5.similarity('asian', 'canadian'))\n",
    "sim.append(m6.similarity('asian', 'canadian'))"
   ]
  },
  {
   "cell_type": "code",
   "execution_count": 24,
   "metadata": {},
   "outputs": [
    {
     "data": {
      "image/png": "[encoded data removed]",
      "text/plain": [
       "<Figure size 432x288 with 1 Axes>"
      ]
     },
     "metadata": {
      "needs_background": "light"
     },
     "output_type": "display_data"
    }
   ],
   "source": [
    "years = [1910, 1930, 1950, 1970, 1990, 2010]\n",
    "\n",
    "index = np.arange(len(years))\n",
    "plt.bar(index, sim)\n",
    "plt.xlabel('Years', fontsize=10)\n",
    "plt.ylabel('Cosine similarity between \"asian\" and \"canadian\"', fontsize=10)\n",
    "plt.xticks(index, years, fontsize=10, rotation=30)\n",
    "#plt.title('Cosine similarity between word2vec of Conservertive Party and Liberal Party')\n",
    "axes = plt.gca()\n",
    "axes.set_ylim([0,1])\n",
    "plt.show()"
   ]
  },
  {
   "cell_type": "code",
   "execution_count": 25,
   "metadata": {},
   "outputs": [
    {
     "name": "stderr",
     "output_type": "stream",
     "text": [
      "C:\\Users\\Jungeun (June) Lim\\Anaconda3\\lib\\site-packages\\ipykernel_launcher.py:2: DeprecationWarning: Call to deprecated `similarity` (Method will be removed in 4.0.0, use self.wv.similarity() instead).\n",
      "  \n",
      "C:\\Users\\Jungeun (June) Lim\\Anaconda3\\lib\\site-packages\\ipykernel_launcher.py:3: DeprecationWarning: Call to deprecated `similarity` (Method will be removed in 4.0.0, use self.wv.similarity() instead).\n",
      "  This is separate from the ipykernel package so we can avoid doing imports until\n",
      "C:\\Users\\Jungeun (June) Lim\\Anaconda3\\lib\\site-packages\\ipykernel_launcher.py:4: DeprecationWarning: Call to deprecated `similarity` (Method will be removed in 4.0.0, use self.wv.similarity() instead).\n",
      "  after removing the cwd from sys.path.\n",
      "C:\\Users\\Jungeun (June) Lim\\Anaconda3\\lib\\site-packages\\ipykernel_launcher.py:5: DeprecationWarning: Call to deprecated `similarity` (Method will be removed in 4.0.0, use self.wv.similarity() instead).\n",
      "  \"\"\"\n",
      "C:\\Users\\Jungeun (June) Lim\\Anaconda3\\lib\\site-packages\\ipykernel_launcher.py:6: DeprecationWarning: Call to deprecated `similarity` (Method will be removed in 4.0.0, use self.wv.similarity() instead).\n",
      "  \n",
      "C:\\Users\\Jungeun (June) Lim\\Anaconda3\\lib\\site-packages\\ipykernel_launcher.py:7: DeprecationWarning: Call to deprecated `similarity` (Method will be removed in 4.0.0, use self.wv.similarity() instead).\n",
      "  import sys\n"
     ]
    }
   ],
   "source": [
    "sim = []\n",
    "sim.append(m1.similarity('asian', 'caucasian'))\n",
    "sim.append(m2.similarity('asian', 'caucasian'))\n",
    "sim.append(m3.similarity('asian', 'caucasian'))\n",
    "sim.append(m4.similarity('asian', 'caucasian'))\n",
    "sim.append(m5.similarity('asian', 'caucasian'))\n",
    "sim.append(m6.similarity('asian', 'caucasian'))"
   ]
  },
  {
   "cell_type": "code",
   "execution_count": 26,
   "metadata": {},
   "outputs": [
    {
     "data": {
      "image/png": "[encoded data removed]",
      "text/plain": [
       "<Figure size 432x288 with 1 Axes>"
      ]
     },
     "metadata": {
      "needs_background": "light"
     },
     "output_type": "display_data"
    }
   ],
   "source": [
    "years = [1910, 1930, 1950, 1970, 1990, 2010]\n",
    "\n",
    "index = np.arange(len(years))\n",
    "plt.bar(index, sim)\n",
    "plt.xlabel('Years', fontsize=10)\n",
    "plt.ylabel('Cosine similarity between \"asian\" and \"caucasian\"', fontsize=10)\n",
    "plt.xticks(index, years, fontsize=10, rotation=30)\n",
    "#plt.title('Cosine similarity between word2vec of Conservertive Party and Liberal Party')\n",
    "axes = plt.gca()\n",
    "axes.set_ylim([0,1])\n",
    "plt.show()"
   ]
  }
 ],
 "metadata": {
  "kernelspec": {
   "display_name": "Python 3",
   "language": "python",
   "name": "python3"
  },
  "language_info": {
   "codemirror_mode": {
    "name": "ipython",
    "version": 3
   },
   "file_extension": ".py",
   "mimetype": "text/x-python",
   "name": "python",
   "nbconvert_exporter": "python",
   "pygments_lexer": "ipython3",
   "version": "3.7.4"
  }
 },
 "nbformat": 4,
 "nbformat_minor": 2
}
